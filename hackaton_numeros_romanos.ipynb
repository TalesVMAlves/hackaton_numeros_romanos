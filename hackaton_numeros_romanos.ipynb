{
 "cells": [
  {
   "cell_type": "markdown",
   "id": "eb930183",
   "metadata": {
    "id": "eb930183"
   },
   "source": [
    "# Hackathon: The AED Challenge\n",
    "\n",
    "Our Hackathon project focus on Annotation Error Detection (AED) for machine learning datasets. The goal is to identify and correct errors in the annotations of datasets used for training machine learning models.\n"
   ]
  },
  {
   "cell_type": "markdown",
   "id": "3360070a",
   "metadata": {
    "id": "3360070a"
   },
   "source": [
    "\n",
    "## 🎯 Goals\n",
    "\n",
    "Your goal is to build an automated method to detect incorrectly labeled images in a **training dataset**. You will be evaluated on how many label errors you can correctly identify.\n"
   ]
  },
  {
   "cell_type": "markdown",
   "id": "6762a4c7",
   "metadata": {
    "id": "6762a4c7"
   },
   "source": [
    "\n",
    "## 📁 Datasets\n",
    "\n",
    "You will be provided with two main datasets:\n",
    "\n",
    "1.  **Training Set (`training_set`)**\n",
    "    *   **Contents**: A collection of images and their corresponding labels.\n",
    "    *   **The Catch**: This set contains an unknown number of labeling errors. You **do not** have the ground truth for which labels are incorrect.\n",
    "    *   **Your Goal**: This is the dataset you must analyze. Your final submission will be a list of suspected errors from this set.\n",
    "\n",
    "2.  **Validation Set (`validation_set`)**\n",
    "    *   **Contents**: A smaller collection of images, their labels, and a special ground truth column (`is_noisy`).\n",
    "    *   **Purpose**: This set is your sandbox. You can use it to develop, test, and validate your error detection models and algorithms. The `is_noisy` column will tell you exactly which labels are wrong (`1`) and which are correct (`0`), allowing you to measure your method's performance before applying it to the real challenge.\n",
    "\n",
    "The original dataset comes from [this hackathon](https://https-deeplearning-ai.github.io/data-centric-comp/) by Andrew Ng and the Deeplearning.ai team."
   ]
  },
  {
   "cell_type": "markdown",
   "id": "3d64698c",
   "metadata": {
    "id": "3d64698c"
   },
   "source": [
    "\n",
    "## 📝 Your Task\n",
    "\n",
    "1.  **Explore the Data**: Start by analyzing both the `training_set` and `validation_set`. Understand the classes, image characteristics, and potential sources of error.\n",
    "2.  **Develop Your Method**: Use the `validation_set` to build and refine your strategy. You could train a model and look for low-confidence predictions, analyze feature embeddings to find outliers, or use other clever techniques.\n",
    "3.  **Identify Errors in the Training Set**: Once you are confident in your method, apply it to the `training_set` to predict which items have incorrect labels.\n",
    "4.  **Generate a Submission File**: Create a CSV file detailing your findings.\n"
   ]
  },
  {
   "cell_type": "markdown",
   "id": "6f13336d",
   "metadata": {
    "id": "6f13336d"
   },
   "source": [
    "\n",
    "## 🚀 Submission\n",
    "\n",
    "Your final output must be a single CSV file named `submission.csv`. This file will be uploaded to the online judging platform.\n",
    "\n",
    "For your grades,  you'll also need to upload your work to a GitHub repository. The repository should include:\n",
    "-   Your code for the error detection method.\n",
    "-   A README file explaining your approach, how to run your code, and any dependencies.\n",
    "-   Any additional files or scripts that are necessary to reproduce your results.\n",
    "\n",
    "## 📅 Timeline\n",
    "-   **Start Time**: 2025-06-26 - 19:00\n",
    "-   **End Time**: 2025-06-26 - 21:30\n",
    "-   **Submission Deadline**: 2025-06-26 - 21:30\n",
    "-   **SIGAA Submission Deadline**: 2025-06-27 - 23:59\n"
   ]
  },
  {
   "cell_type": "markdown",
   "id": "860c9a3a",
   "metadata": {
    "id": "860c9a3a"
   },
   "source": [
    "\n",
    "### Submission File Format\n",
    "\n",
    "The CSV file must contain exactly two columns: `uid` and `is_noisy`.\n",
    "\n",
    "*   `uid`: The identifier/filename of the image from the `training_set`.\n",
    "*   `is_noisy`: Your prediction. Use `1` if you believe the label is an error, and `0` if you believe it is correct.\n",
    "\n",
    "**Example `submission.csv`:**\n",
    "\n",
    "```csv\n",
    "uid,is_noisy\n",
    "12345676890aed,0\n",
    "12345676890aee,1\n",
    "12345676890aef,0\n",
    "12345676890af0,1\n",
    "...\n",
    "```\n"
   ]
  },
  {
   "cell_type": "markdown",
   "id": "3bc5d200",
   "metadata": {
    "id": "3bc5d200"
   },
   "source": [
    "\n",
    "## 🏆 Evaluation\n",
    "\n",
    "Your submission will be evaluated using the **Matthews Correlation Coefficient (MCC)**.\n",
    "\n",
    "*   **Why MCC?**: MCC is a robust metric for binary classification that performs well even when the classes are highly imbalanced (as we expect far more correct labels than incorrect ones). It provides a single, balanced score that accounts for true/false positives and negatives.\n",
    "*   **The Winner**: The team with the highest MCC score on the hidden ground truth of the `training_set` wins!\n",
    "*   **Your Grade**: Your grade will be based on the quality of your submission on SIGAA.\n",
    "\n",
    "The final **leaderboard** on the platform will show your rank and score after each submission.\n"
   ]
  },
  {
   "cell_type": "code",
   "execution_count": 1,
   "id": "AQbvU7KLU7Rs",
   "metadata": {
    "colab": {
     "base_uri": "https://localhost:8080/"
    },
    "id": "AQbvU7KLU7Rs",
    "outputId": "a6c98d0c-c9cc-4a1c-cc64-309972a452ef"
   },
   "outputs": [
    {
     "name": "stdout",
     "output_type": "stream",
     "text": [
      "Requirement already satisfied: transformers in c:\\users\\tales\\python\\cl_stanford_dogs\\.venv\\lib\\site-packages (4.53.0)\n",
      "Requirement already satisfied: filelock in c:\\users\\tales\\python\\cl_stanford_dogs\\.venv\\lib\\site-packages (from transformers) (3.18.0)\n",
      "Requirement already satisfied: huggingface-hub<1.0,>=0.30.0 in c:\\users\\tales\\python\\cl_stanford_dogs\\.venv\\lib\\site-packages (from transformers) (0.33.1)\n",
      "Requirement already satisfied: numpy>=1.17 in c:\\users\\tales\\python\\cl_stanford_dogs\\.venv\\lib\\site-packages (from transformers) (1.26.4)\n",
      "Requirement already satisfied: packaging>=20.0 in c:\\users\\tales\\python\\cl_stanford_dogs\\.venv\\lib\\site-packages (from transformers) (25.0)\n",
      "Requirement already satisfied: pyyaml>=5.1 in c:\\users\\tales\\python\\cl_stanford_dogs\\.venv\\lib\\site-packages (from transformers) (6.0.2)\n",
      "Requirement already satisfied: regex!=2019.12.17 in c:\\users\\tales\\python\\cl_stanford_dogs\\.venv\\lib\\site-packages (from transformers) (2024.11.6)\n",
      "Requirement already satisfied: requests in c:\\users\\tales\\python\\cl_stanford_dogs\\.venv\\lib\\site-packages (from transformers) (2.32.4)\n",
      "Requirement already satisfied: tokenizers<0.22,>=0.21 in c:\\users\\tales\\python\\cl_stanford_dogs\\.venv\\lib\\site-packages (from transformers) (0.21.2)\n",
      "Requirement already satisfied: safetensors>=0.4.3 in c:\\users\\tales\\python\\cl_stanford_dogs\\.venv\\lib\\site-packages (from transformers) (0.5.3)\n",
      "Requirement already satisfied: tqdm>=4.27 in c:\\users\\tales\\python\\cl_stanford_dogs\\.venv\\lib\\site-packages (from transformers) (4.67.1)\n",
      "Requirement already satisfied: fsspec>=2023.5.0 in c:\\users\\tales\\python\\cl_stanford_dogs\\.venv\\lib\\site-packages (from huggingface-hub<1.0,>=0.30.0->transformers) (2025.3.0)\n",
      "Requirement already satisfied: typing-extensions>=3.7.4.3 in c:\\users\\tales\\python\\cl_stanford_dogs\\.venv\\lib\\site-packages (from huggingface-hub<1.0,>=0.30.0->transformers) (4.14.0)\n",
      "Requirement already satisfied: colorama in c:\\users\\tales\\python\\cl_stanford_dogs\\.venv\\lib\\site-packages (from tqdm>=4.27->transformers) (0.4.6)\n",
      "Requirement already satisfied: charset_normalizer<4,>=2 in c:\\users\\tales\\python\\cl_stanford_dogs\\.venv\\lib\\site-packages (from requests->transformers) (3.4.2)\n",
      "Requirement already satisfied: idna<4,>=2.5 in c:\\users\\tales\\python\\cl_stanford_dogs\\.venv\\lib\\site-packages (from requests->transformers) (3.10)\n",
      "Requirement already satisfied: urllib3<3,>=1.21.1 in c:\\users\\tales\\python\\cl_stanford_dogs\\.venv\\lib\\site-packages (from requests->transformers) (2.5.0)\n",
      "Requirement already satisfied: certifi>=2017.4.17 in c:\\users\\tales\\python\\cl_stanford_dogs\\.venv\\lib\\site-packages (from requests->transformers) (2025.6.15)\n",
      "Requirement already satisfied: Pillow in c:\\users\\tales\\python\\cl_stanford_dogs\\.venv\\lib\\site-packages (11.2.1)\n",
      "Requirement already satisfied: numpy in c:\\users\\tales\\python\\cl_stanford_dogs\\.venv\\lib\\site-packages (1.26.4)\n",
      "Requirement already satisfied: joblib in c:\\users\\tales\\python\\cl_stanford_dogs\\.venv\\lib\\site-packages (1.5.1)\n",
      "Requirement already satisfied: pathlib in c:\\users\\tales\\python\\cl_stanford_dogs\\.venv\\lib\\site-packages (1.0.1)\n",
      "Requirement already satisfied: tqdm in c:\\users\\tales\\python\\cl_stanford_dogs\\.venv\\lib\\site-packages (4.67.1)\n",
      "Requirement already satisfied: colorama in c:\\users\\tales\\python\\cl_stanford_dogs\\.venv\\lib\\site-packages (from tqdm) (0.4.6)\n",
      "Requirement already satisfied: cleanlab[datalab] in c:\\users\\tales\\python\\cl_stanford_dogs\\.venv\\lib\\site-packages (2.7.1)\n",
      "Requirement already satisfied: numpy~=1.22 in c:\\users\\tales\\python\\cl_stanford_dogs\\.venv\\lib\\site-packages (from cleanlab[datalab]) (1.26.4)\n",
      "Requirement already satisfied: scikit-learn>=1.1 in c:\\users\\tales\\python\\cl_stanford_dogs\\.venv\\lib\\site-packages (from cleanlab[datalab]) (1.7.0)\n",
      "Requirement already satisfied: tqdm>=4.53.0 in c:\\users\\tales\\python\\cl_stanford_dogs\\.venv\\lib\\site-packages (from cleanlab[datalab]) (4.67.1)\n",
      "Requirement already satisfied: pandas>=1.4.0 in c:\\users\\tales\\python\\cl_stanford_dogs\\.venv\\lib\\site-packages (from cleanlab[datalab]) (2.3.0)\n",
      "Requirement already satisfied: termcolor>=2.4.0 in c:\\users\\tales\\python\\cl_stanford_dogs\\.venv\\lib\\site-packages (from cleanlab[datalab]) (3.1.0)\n",
      "Requirement already satisfied: datasets>=2.7.0 in c:\\users\\tales\\python\\cl_stanford_dogs\\.venv\\lib\\site-packages (from cleanlab[datalab]) (3.6.0)\n",
      "Requirement already satisfied: filelock in c:\\users\\tales\\python\\cl_stanford_dogs\\.venv\\lib\\site-packages (from datasets>=2.7.0->cleanlab[datalab]) (3.18.0)\n",
      "Requirement already satisfied: pyarrow>=15.0.0 in c:\\users\\tales\\python\\cl_stanford_dogs\\.venv\\lib\\site-packages (from datasets>=2.7.0->cleanlab[datalab]) (20.0.0)\n",
      "Requirement already satisfied: dill<0.3.9,>=0.3.0 in c:\\users\\tales\\python\\cl_stanford_dogs\\.venv\\lib\\site-packages (from datasets>=2.7.0->cleanlab[datalab]) (0.3.8)\n",
      "Requirement already satisfied: requests>=2.32.2 in c:\\users\\tales\\python\\cl_stanford_dogs\\.venv\\lib\\site-packages (from datasets>=2.7.0->cleanlab[datalab]) (2.32.4)\n",
      "Requirement already satisfied: xxhash in c:\\users\\tales\\python\\cl_stanford_dogs\\.venv\\lib\\site-packages (from datasets>=2.7.0->cleanlab[datalab]) (3.5.0)\n",
      "Requirement already satisfied: multiprocess<0.70.17 in c:\\users\\tales\\python\\cl_stanford_dogs\\.venv\\lib\\site-packages (from datasets>=2.7.0->cleanlab[datalab]) (0.70.16)\n",
      "Requirement already satisfied: fsspec<=2025.3.0,>=2023.1.0 in c:\\users\\tales\\python\\cl_stanford_dogs\\.venv\\lib\\site-packages (from fsspec[http]<=2025.3.0,>=2023.1.0->datasets>=2.7.0->cleanlab[datalab]) (2025.3.0)\n",
      "Requirement already satisfied: huggingface-hub>=0.24.0 in c:\\users\\tales\\python\\cl_stanford_dogs\\.venv\\lib\\site-packages (from datasets>=2.7.0->cleanlab[datalab]) (0.33.1)\n",
      "Requirement already satisfied: packaging in c:\\users\\tales\\python\\cl_stanford_dogs\\.venv\\lib\\site-packages (from datasets>=2.7.0->cleanlab[datalab]) (25.0)\n",
      "Requirement already satisfied: pyyaml>=5.1 in c:\\users\\tales\\python\\cl_stanford_dogs\\.venv\\lib\\site-packages (from datasets>=2.7.0->cleanlab[datalab]) (6.0.2)\n",
      "Requirement already satisfied: aiohttp!=4.0.0a0,!=4.0.0a1 in c:\\users\\tales\\python\\cl_stanford_dogs\\.venv\\lib\\site-packages (from fsspec[http]<=2025.3.0,>=2023.1.0->datasets>=2.7.0->cleanlab[datalab]) (3.12.13)\n",
      "Requirement already satisfied: aiohappyeyeballs>=2.5.0 in c:\\users\\tales\\python\\cl_stanford_dogs\\.venv\\lib\\site-packages (from aiohttp!=4.0.0a0,!=4.0.0a1->fsspec[http]<=2025.3.0,>=2023.1.0->datasets>=2.7.0->cleanlab[datalab]) (2.6.1)\n",
      "Requirement already satisfied: aiosignal>=1.1.2 in c:\\users\\tales\\python\\cl_stanford_dogs\\.venv\\lib\\site-packages (from aiohttp!=4.0.0a0,!=4.0.0a1->fsspec[http]<=2025.3.0,>=2023.1.0->datasets>=2.7.0->cleanlab[datalab]) (1.3.2)\n",
      "Requirement already satisfied: async-timeout<6.0,>=4.0 in c:\\users\\tales\\python\\cl_stanford_dogs\\.venv\\lib\\site-packages (from aiohttp!=4.0.0a0,!=4.0.0a1->fsspec[http]<=2025.3.0,>=2023.1.0->datasets>=2.7.0->cleanlab[datalab]) (5.0.1)\n",
      "Requirement already satisfied: attrs>=17.3.0 in c:\\users\\tales\\python\\cl_stanford_dogs\\.venv\\lib\\site-packages (from aiohttp!=4.0.0a0,!=4.0.0a1->fsspec[http]<=2025.3.0,>=2023.1.0->datasets>=2.7.0->cleanlab[datalab]) (25.3.0)\n",
      "Requirement already satisfied: frozenlist>=1.1.1 in c:\\users\\tales\\python\\cl_stanford_dogs\\.venv\\lib\\site-packages (from aiohttp!=4.0.0a0,!=4.0.0a1->fsspec[http]<=2025.3.0,>=2023.1.0->datasets>=2.7.0->cleanlab[datalab]) (1.7.0)\n",
      "Requirement already satisfied: multidict<7.0,>=4.5 in c:\\users\\tales\\python\\cl_stanford_dogs\\.venv\\lib\\site-packages (from aiohttp!=4.0.0a0,!=4.0.0a1->fsspec[http]<=2025.3.0,>=2023.1.0->datasets>=2.7.0->cleanlab[datalab]) (6.5.1)\n",
      "Requirement already satisfied: propcache>=0.2.0 in c:\\users\\tales\\python\\cl_stanford_dogs\\.venv\\lib\\site-packages (from aiohttp!=4.0.0a0,!=4.0.0a1->fsspec[http]<=2025.3.0,>=2023.1.0->datasets>=2.7.0->cleanlab[datalab]) (0.3.2)\n",
      "Requirement already satisfied: yarl<2.0,>=1.17.0 in c:\\users\\tales\\python\\cl_stanford_dogs\\.venv\\lib\\site-packages (from aiohttp!=4.0.0a0,!=4.0.0a1->fsspec[http]<=2025.3.0,>=2023.1.0->datasets>=2.7.0->cleanlab[datalab]) (1.20.1)\n",
      "Requirement already satisfied: typing-extensions>=4.1.0 in c:\\users\\tales\\python\\cl_stanford_dogs\\.venv\\lib\\site-packages (from multidict<7.0,>=4.5->aiohttp!=4.0.0a0,!=4.0.0a1->fsspec[http]<=2025.3.0,>=2023.1.0->datasets>=2.7.0->cleanlab[datalab]) (4.14.0)\n",
      "Requirement already satisfied: idna>=2.0 in c:\\users\\tales\\python\\cl_stanford_dogs\\.venv\\lib\\site-packages (from yarl<2.0,>=1.17.0->aiohttp!=4.0.0a0,!=4.0.0a1->fsspec[http]<=2025.3.0,>=2023.1.0->datasets>=2.7.0->cleanlab[datalab]) (3.10)\n",
      "Requirement already satisfied: python-dateutil>=2.8.2 in c:\\users\\tales\\python\\cl_stanford_dogs\\.venv\\lib\\site-packages (from pandas>=1.4.0->cleanlab[datalab]) (2.9.0.post0)\n",
      "Requirement already satisfied: pytz>=2020.1 in c:\\users\\tales\\python\\cl_stanford_dogs\\.venv\\lib\\site-packages (from pandas>=1.4.0->cleanlab[datalab]) (2025.2)\n",
      "Requirement already satisfied: tzdata>=2022.7 in c:\\users\\tales\\python\\cl_stanford_dogs\\.venv\\lib\\site-packages (from pandas>=1.4.0->cleanlab[datalab]) (2025.2)\n",
      "Requirement already satisfied: six>=1.5 in c:\\users\\tales\\python\\cl_stanford_dogs\\.venv\\lib\\site-packages (from python-dateutil>=2.8.2->pandas>=1.4.0->cleanlab[datalab]) (1.17.0)\n",
      "Requirement already satisfied: charset_normalizer<4,>=2 in c:\\users\\tales\\python\\cl_stanford_dogs\\.venv\\lib\\site-packages (from requests>=2.32.2->datasets>=2.7.0->cleanlab[datalab]) (3.4.2)\n",
      "Requirement already satisfied: urllib3<3,>=1.21.1 in c:\\users\\tales\\python\\cl_stanford_dogs\\.venv\\lib\\site-packages (from requests>=2.32.2->datasets>=2.7.0->cleanlab[datalab]) (2.5.0)\n",
      "Requirement already satisfied: certifi>=2017.4.17 in c:\\users\\tales\\python\\cl_stanford_dogs\\.venv\\lib\\site-packages (from requests>=2.32.2->datasets>=2.7.0->cleanlab[datalab]) (2025.6.15)\n",
      "Requirement already satisfied: scipy>=1.8.0 in c:\\users\\tales\\python\\cl_stanford_dogs\\.venv\\lib\\site-packages (from scikit-learn>=1.1->cleanlab[datalab]) (1.15.3)\n",
      "Requirement already satisfied: joblib>=1.2.0 in c:\\users\\tales\\python\\cl_stanford_dogs\\.venv\\lib\\site-packages (from scikit-learn>=1.1->cleanlab[datalab]) (1.5.1)\n",
      "Requirement already satisfied: threadpoolctl>=3.1.0 in c:\\users\\tales\\python\\cl_stanford_dogs\\.venv\\lib\\site-packages (from scikit-learn>=1.1->cleanlab[datalab]) (3.6.0)\n",
      "Requirement already satisfied: colorama in c:\\users\\tales\\python\\cl_stanford_dogs\\.venv\\lib\\site-packages (from tqdm>=4.53.0->cleanlab[datalab]) (0.4.6)\n",
      "Requirement already satisfied: matplotlib in c:\\users\\tales\\python\\cl_stanford_dogs\\.venv\\lib\\site-packages (3.10.3)\n",
      "Requirement already satisfied: contourpy>=1.0.1 in c:\\users\\tales\\python\\cl_stanford_dogs\\.venv\\lib\\site-packages (from matplotlib) (1.3.2)\n",
      "Requirement already satisfied: cycler>=0.10 in c:\\users\\tales\\python\\cl_stanford_dogs\\.venv\\lib\\site-packages (from matplotlib) (0.12.1)\n",
      "Requirement already satisfied: fonttools>=4.22.0 in c:\\users\\tales\\python\\cl_stanford_dogs\\.venv\\lib\\site-packages (from matplotlib) (4.58.4)\n",
      "Requirement already satisfied: kiwisolver>=1.3.1 in c:\\users\\tales\\python\\cl_stanford_dogs\\.venv\\lib\\site-packages (from matplotlib) (1.4.8)\n",
      "Requirement already satisfied: numpy>=1.23 in c:\\users\\tales\\python\\cl_stanford_dogs\\.venv\\lib\\site-packages (from matplotlib) (1.26.4)\n",
      "Requirement already satisfied: packaging>=20.0 in c:\\users\\tales\\python\\cl_stanford_dogs\\.venv\\lib\\site-packages (from matplotlib) (25.0)\n",
      "Requirement already satisfied: pillow>=8 in c:\\users\\tales\\python\\cl_stanford_dogs\\.venv\\lib\\site-packages (from matplotlib) (11.2.1)\n",
      "Requirement already satisfied: pyparsing>=2.3.1 in c:\\users\\tales\\python\\cl_stanford_dogs\\.venv\\lib\\site-packages (from matplotlib) (3.2.3)\n",
      "Requirement already satisfied: python-dateutil>=2.7 in c:\\users\\tales\\python\\cl_stanford_dogs\\.venv\\lib\\site-packages (from matplotlib) (2.9.0.post0)\n",
      "Requirement already satisfied: six>=1.5 in c:\\users\\tales\\python\\cl_stanford_dogs\\.venv\\lib\\site-packages (from python-dateutil>=2.7->matplotlib) (1.17.0)\n",
      "Requirement already satisfied: plotly in c:\\users\\tales\\python\\cl_stanford_dogs\\.venv\\lib\\site-packages (6.2.0)\n",
      "Requirement already satisfied: narwhals>=1.15.1 in c:\\users\\tales\\python\\cl_stanford_dogs\\.venv\\lib\\site-packages (from plotly) (1.44.0)\n",
      "Requirement already satisfied: packaging in c:\\users\\tales\\python\\cl_stanford_dogs\\.venv\\lib\\site-packages (from plotly) (25.0)\n",
      "Requirement already satisfied: xgboost in c:\\users\\tales\\python\\cl_stanford_dogs\\.venv\\lib\\site-packages (3.0.2)\n",
      "Requirement already satisfied: numpy in c:\\users\\tales\\python\\cl_stanford_dogs\\.venv\\lib\\site-packages (from xgboost) (1.26.4)\n",
      "Requirement already satisfied: scipy in c:\\users\\tales\\python\\cl_stanford_dogs\\.venv\\lib\\site-packages (from xgboost) (1.15.3)\n",
      "Requirement already satisfied: cleanvision in c:\\users\\tales\\python\\cl_stanford_dogs\\.venv\\lib\\site-packages (0.3.6)\n",
      "Requirement already satisfied: Pillow>=9.3 in c:\\users\\tales\\python\\cl_stanford_dogs\\.venv\\lib\\site-packages (from cleanvision) (11.2.1)\n",
      "Requirement already satisfied: numpy>=1.20.0 in c:\\users\\tales\\python\\cl_stanford_dogs\\.venv\\lib\\site-packages (from cleanvision) (1.26.4)\n",
      "Requirement already satisfied: pandas>=1.1.5 in c:\\users\\tales\\python\\cl_stanford_dogs\\.venv\\lib\\site-packages (from cleanvision) (2.3.0)\n",
      "Requirement already satisfied: tabulate>=0.8.3 in c:\\users\\tales\\python\\cl_stanford_dogs\\.venv\\lib\\site-packages (from cleanvision) (0.9.0)\n",
      "Requirement already satisfied: imagehash>=4.2.0 in c:\\users\\tales\\python\\cl_stanford_dogs\\.venv\\lib\\site-packages (from cleanvision) (4.3.2)\n",
      "Requirement already satisfied: tqdm>=4.53.0 in c:\\users\\tales\\python\\cl_stanford_dogs\\.venv\\lib\\site-packages (from cleanvision) (4.67.1)\n",
      "Requirement already satisfied: matplotlib>=3.4 in c:\\users\\tales\\python\\cl_stanford_dogs\\.venv\\lib\\site-packages (from cleanvision) (3.10.3)\n",
      "Requirement already satisfied: fsspec>=2023.1.0 in c:\\users\\tales\\python\\cl_stanford_dogs\\.venv\\lib\\site-packages (from cleanvision) (2025.3.0)\n",
      "Requirement already satisfied: PyWavelets in c:\\users\\tales\\python\\cl_stanford_dogs\\.venv\\lib\\site-packages (from imagehash>=4.2.0->cleanvision) (1.8.0)\n",
      "Requirement already satisfied: scipy in c:\\users\\tales\\python\\cl_stanford_dogs\\.venv\\lib\\site-packages (from imagehash>=4.2.0->cleanvision) (1.15.3)\n",
      "Requirement already satisfied: contourpy>=1.0.1 in c:\\users\\tales\\python\\cl_stanford_dogs\\.venv\\lib\\site-packages (from matplotlib>=3.4->cleanvision) (1.3.2)\n",
      "Requirement already satisfied: cycler>=0.10 in c:\\users\\tales\\python\\cl_stanford_dogs\\.venv\\lib\\site-packages (from matplotlib>=3.4->cleanvision) (0.12.1)\n",
      "Requirement already satisfied: fonttools>=4.22.0 in c:\\users\\tales\\python\\cl_stanford_dogs\\.venv\\lib\\site-packages (from matplotlib>=3.4->cleanvision) (4.58.4)\n",
      "Requirement already satisfied: kiwisolver>=1.3.1 in c:\\users\\tales\\python\\cl_stanford_dogs\\.venv\\lib\\site-packages (from matplotlib>=3.4->cleanvision) (1.4.8)\n",
      "Requirement already satisfied: packaging>=20.0 in c:\\users\\tales\\python\\cl_stanford_dogs\\.venv\\lib\\site-packages (from matplotlib>=3.4->cleanvision) (25.0)\n",
      "Requirement already satisfied: pyparsing>=2.3.1 in c:\\users\\tales\\python\\cl_stanford_dogs\\.venv\\lib\\site-packages (from matplotlib>=3.4->cleanvision) (3.2.3)\n",
      "Requirement already satisfied: python-dateutil>=2.7 in c:\\users\\tales\\python\\cl_stanford_dogs\\.venv\\lib\\site-packages (from matplotlib>=3.4->cleanvision) (2.9.0.post0)\n",
      "Requirement already satisfied: pytz>=2020.1 in c:\\users\\tales\\python\\cl_stanford_dogs\\.venv\\lib\\site-packages (from pandas>=1.1.5->cleanvision) (2025.2)\n",
      "Requirement already satisfied: tzdata>=2022.7 in c:\\users\\tales\\python\\cl_stanford_dogs\\.venv\\lib\\site-packages (from pandas>=1.1.5->cleanvision) (2025.2)\n",
      "Requirement already satisfied: six>=1.5 in c:\\users\\tales\\python\\cl_stanford_dogs\\.venv\\lib\\site-packages (from python-dateutil>=2.7->matplotlib>=3.4->cleanvision) (1.17.0)\n",
      "Requirement already satisfied: colorama in c:\\users\\tales\\python\\cl_stanford_dogs\\.venv\\lib\\site-packages (from tqdm>=4.53.0->cleanvision) (0.4.6)\n",
      "Requirement already satisfied: seaborn in c:\\users\\tales\\python\\cl_stanford_dogs\\.venv\\lib\\site-packages (0.13.2)\n",
      "Requirement already satisfied: numpy!=1.24.0,>=1.20 in c:\\users\\tales\\python\\cl_stanford_dogs\\.venv\\lib\\site-packages (from seaborn) (1.26.4)\n",
      "Requirement already satisfied: pandas>=1.2 in c:\\users\\tales\\python\\cl_stanford_dogs\\.venv\\lib\\site-packages (from seaborn) (2.3.0)\n",
      "Requirement already satisfied: matplotlib!=3.6.1,>=3.4 in c:\\users\\tales\\python\\cl_stanford_dogs\\.venv\\lib\\site-packages (from seaborn) (3.10.3)\n",
      "Requirement already satisfied: contourpy>=1.0.1 in c:\\users\\tales\\python\\cl_stanford_dogs\\.venv\\lib\\site-packages (from matplotlib!=3.6.1,>=3.4->seaborn) (1.3.2)\n",
      "Requirement already satisfied: cycler>=0.10 in c:\\users\\tales\\python\\cl_stanford_dogs\\.venv\\lib\\site-packages (from matplotlib!=3.6.1,>=3.4->seaborn) (0.12.1)\n",
      "Requirement already satisfied: fonttools>=4.22.0 in c:\\users\\tales\\python\\cl_stanford_dogs\\.venv\\lib\\site-packages (from matplotlib!=3.6.1,>=3.4->seaborn) (4.58.4)\n",
      "Requirement already satisfied: kiwisolver>=1.3.1 in c:\\users\\tales\\python\\cl_stanford_dogs\\.venv\\lib\\site-packages (from matplotlib!=3.6.1,>=3.4->seaborn) (1.4.8)\n",
      "Requirement already satisfied: packaging>=20.0 in c:\\users\\tales\\python\\cl_stanford_dogs\\.venv\\lib\\site-packages (from matplotlib!=3.6.1,>=3.4->seaborn) (25.0)\n",
      "Requirement already satisfied: pillow>=8 in c:\\users\\tales\\python\\cl_stanford_dogs\\.venv\\lib\\site-packages (from matplotlib!=3.6.1,>=3.4->seaborn) (11.2.1)\n",
      "Requirement already satisfied: pyparsing>=2.3.1 in c:\\users\\tales\\python\\cl_stanford_dogs\\.venv\\lib\\site-packages (from matplotlib!=3.6.1,>=3.4->seaborn) (3.2.3)\n",
      "Requirement already satisfied: python-dateutil>=2.7 in c:\\users\\tales\\python\\cl_stanford_dogs\\.venv\\lib\\site-packages (from matplotlib!=3.6.1,>=3.4->seaborn) (2.9.0.post0)\n",
      "Requirement already satisfied: pytz>=2020.1 in c:\\users\\tales\\python\\cl_stanford_dogs\\.venv\\lib\\site-packages (from pandas>=1.2->seaborn) (2025.2)\n",
      "Requirement already satisfied: tzdata>=2022.7 in c:\\users\\tales\\python\\cl_stanford_dogs\\.venv\\lib\\site-packages (from pandas>=1.2->seaborn) (2025.2)\n",
      "Requirement already satisfied: six>=1.5 in c:\\users\\tales\\python\\cl_stanford_dogs\\.venv\\lib\\site-packages (from python-dateutil>=2.7->matplotlib!=3.6.1,>=3.4->seaborn) (1.17.0)\n"
     ]
    },
    {
     "name": "stderr",
     "output_type": "stream",
     "text": [
      "ERROR: You must give at least one requirement to install (see \"pip help install\")\n"
     ]
    },
    {
     "name": "stdout",
     "output_type": "stream",
     "text": [
      "Requirement already satisfied: torch in c:\\users\\tales\\python\\cl_stanford_dogs\\.venv\\lib\\site-packages (2.7.1+cu128)\n",
      "Requirement already satisfied: filelock in c:\\users\\tales\\python\\cl_stanford_dogs\\.venv\\lib\\site-packages (from torch) (3.18.0)\n",
      "Requirement already satisfied: typing-extensions>=4.10.0 in c:\\users\\tales\\python\\cl_stanford_dogs\\.venv\\lib\\site-packages (from torch) (4.14.0)\n",
      "Requirement already satisfied: sympy>=1.13.3 in c:\\users\\tales\\python\\cl_stanford_dogs\\.venv\\lib\\site-packages (from torch) (1.14.0)\n",
      "Requirement already satisfied: networkx in c:\\users\\tales\\python\\cl_stanford_dogs\\.venv\\lib\\site-packages (from torch) (3.4.2)\n",
      "Requirement already satisfied: jinja2 in c:\\users\\tales\\python\\cl_stanford_dogs\\.venv\\lib\\site-packages (from torch) (3.1.6)\n",
      "Requirement already satisfied: fsspec in c:\\users\\tales\\python\\cl_stanford_dogs\\.venv\\lib\\site-packages (from torch) (2025.3.0)\n",
      "Requirement already satisfied: mpmath<1.4,>=1.1.0 in c:\\users\\tales\\python\\cl_stanford_dogs\\.venv\\lib\\site-packages (from sympy>=1.13.3->torch) (1.3.0)\n",
      "Requirement already satisfied: MarkupSafe>=2.0 in c:\\users\\tales\\python\\cl_stanford_dogs\\.venv\\lib\\site-packages (from jinja2->torch) (3.0.2)\n",
      "Requirement already satisfied: torchvision in c:\\users\\tales\\python\\cl_stanford_dogs\\.venv\\lib\\site-packages (0.22.1+cu128)\n",
      "Requirement already satisfied: numpy in c:\\users\\tales\\python\\cl_stanford_dogs\\.venv\\lib\\site-packages (from torchvision) (1.26.4)\n",
      "Requirement already satisfied: torch==2.7.1+cu128 in c:\\users\\tales\\python\\cl_stanford_dogs\\.venv\\lib\\site-packages (from torchvision) (2.7.1+cu128)\n",
      "Requirement already satisfied: pillow!=8.3.*,>=5.3.0 in c:\\users\\tales\\python\\cl_stanford_dogs\\.venv\\lib\\site-packages (from torchvision) (11.2.1)\n",
      "Requirement already satisfied: filelock in c:\\users\\tales\\python\\cl_stanford_dogs\\.venv\\lib\\site-packages (from torch==2.7.1+cu128->torchvision) (3.18.0)\n",
      "Requirement already satisfied: typing-extensions>=4.10.0 in c:\\users\\tales\\python\\cl_stanford_dogs\\.venv\\lib\\site-packages (from torch==2.7.1+cu128->torchvision) (4.14.0)\n",
      "Requirement already satisfied: sympy>=1.13.3 in c:\\users\\tales\\python\\cl_stanford_dogs\\.venv\\lib\\site-packages (from torch==2.7.1+cu128->torchvision) (1.14.0)\n",
      "Requirement already satisfied: networkx in c:\\users\\tales\\python\\cl_stanford_dogs\\.venv\\lib\\site-packages (from torch==2.7.1+cu128->torchvision) (3.4.2)\n",
      "Requirement already satisfied: jinja2 in c:\\users\\tales\\python\\cl_stanford_dogs\\.venv\\lib\\site-packages (from torch==2.7.1+cu128->torchvision) (3.1.6)\n",
      "Requirement already satisfied: fsspec in c:\\users\\tales\\python\\cl_stanford_dogs\\.venv\\lib\\site-packages (from torch==2.7.1+cu128->torchvision) (2025.3.0)\n",
      "Requirement already satisfied: mpmath<1.4,>=1.1.0 in c:\\users\\tales\\python\\cl_stanford_dogs\\.venv\\lib\\site-packages (from sympy>=1.13.3->torch==2.7.1+cu128->torchvision) (1.3.0)\n",
      "Requirement already satisfied: MarkupSafe>=2.0 in c:\\users\\tales\\python\\cl_stanford_dogs\\.venv\\lib\\site-packages (from jinja2->torch==2.7.1+cu128->torchvision) (3.0.2)\n",
      "Requirement already satisfied: torchaudio in c:\\users\\tales\\python\\cl_stanford_dogs\\.venv\\lib\\site-packages (2.7.1+cu128)\n",
      "Requirement already satisfied: torch==2.7.1+cu128 in c:\\users\\tales\\python\\cl_stanford_dogs\\.venv\\lib\\site-packages (from torchaudio) (2.7.1+cu128)\n",
      "Requirement already satisfied: filelock in c:\\users\\tales\\python\\cl_stanford_dogs\\.venv\\lib\\site-packages (from torch==2.7.1+cu128->torchaudio) (3.18.0)\n",
      "Requirement already satisfied: typing-extensions>=4.10.0 in c:\\users\\tales\\python\\cl_stanford_dogs\\.venv\\lib\\site-packages (from torch==2.7.1+cu128->torchaudio) (4.14.0)\n",
      "Requirement already satisfied: sympy>=1.13.3 in c:\\users\\tales\\python\\cl_stanford_dogs\\.venv\\lib\\site-packages (from torch==2.7.1+cu128->torchaudio) (1.14.0)\n",
      "Requirement already satisfied: networkx in c:\\users\\tales\\python\\cl_stanford_dogs\\.venv\\lib\\site-packages (from torch==2.7.1+cu128->torchaudio) (3.4.2)\n",
      "Requirement already satisfied: jinja2 in c:\\users\\tales\\python\\cl_stanford_dogs\\.venv\\lib\\site-packages (from torch==2.7.1+cu128->torchaudio) (3.1.6)\n",
      "Requirement already satisfied: fsspec in c:\\users\\tales\\python\\cl_stanford_dogs\\.venv\\lib\\site-packages (from torch==2.7.1+cu128->torchaudio) (2025.3.0)\n",
      "Requirement already satisfied: mpmath<1.4,>=1.1.0 in c:\\users\\tales\\python\\cl_stanford_dogs\\.venv\\lib\\site-packages (from sympy>=1.13.3->torch==2.7.1+cu128->torchaudio) (1.3.0)\n",
      "Requirement already satisfied: MarkupSafe>=2.0 in c:\\users\\tales\\python\\cl_stanford_dogs\\.venv\\lib\\site-packages (from jinja2->torch==2.7.1+cu128->torchaudio) (3.0.2)\n",
      "Requirement already satisfied: transformers[torch] in c:\\users\\tales\\python\\cl_stanford_dogs\\.venv\\lib\\site-packages (4.53.0)\n",
      "Requirement already satisfied: filelock in c:\\users\\tales\\python\\cl_stanford_dogs\\.venv\\lib\\site-packages (from transformers[torch]) (3.18.0)\n",
      "Requirement already satisfied: huggingface-hub<1.0,>=0.30.0 in c:\\users\\tales\\python\\cl_stanford_dogs\\.venv\\lib\\site-packages (from transformers[torch]) (0.33.1)\n",
      "Requirement already satisfied: numpy>=1.17 in c:\\users\\tales\\python\\cl_stanford_dogs\\.venv\\lib\\site-packages (from transformers[torch]) (1.26.4)\n",
      "Requirement already satisfied: packaging>=20.0 in c:\\users\\tales\\python\\cl_stanford_dogs\\.venv\\lib\\site-packages (from transformers[torch]) (25.0)\n",
      "Requirement already satisfied: pyyaml>=5.1 in c:\\users\\tales\\python\\cl_stanford_dogs\\.venv\\lib\\site-packages (from transformers[torch]) (6.0.2)\n",
      "Requirement already satisfied: regex!=2019.12.17 in c:\\users\\tales\\python\\cl_stanford_dogs\\.venv\\lib\\site-packages (from transformers[torch]) (2024.11.6)\n",
      "Requirement already satisfied: requests in c:\\users\\tales\\python\\cl_stanford_dogs\\.venv\\lib\\site-packages (from transformers[torch]) (2.32.4)\n",
      "Requirement already satisfied: tokenizers<0.22,>=0.21 in c:\\users\\tales\\python\\cl_stanford_dogs\\.venv\\lib\\site-packages (from transformers[torch]) (0.21.2)\n",
      "Requirement already satisfied: safetensors>=0.4.3 in c:\\users\\tales\\python\\cl_stanford_dogs\\.venv\\lib\\site-packages (from transformers[torch]) (0.5.3)\n",
      "Requirement already satisfied: tqdm>=4.27 in c:\\users\\tales\\python\\cl_stanford_dogs\\.venv\\lib\\site-packages (from transformers[torch]) (4.67.1)\n",
      "Requirement already satisfied: torch>=2.1 in c:\\users\\tales\\python\\cl_stanford_dogs\\.venv\\lib\\site-packages (from transformers[torch]) (2.7.1+cu128)\n",
      "Requirement already satisfied: accelerate>=0.26.0 in c:\\users\\tales\\python\\cl_stanford_dogs\\.venv\\lib\\site-packages (from transformers[torch]) (1.8.1)\n",
      "Requirement already satisfied: fsspec>=2023.5.0 in c:\\users\\tales\\python\\cl_stanford_dogs\\.venv\\lib\\site-packages (from huggingface-hub<1.0,>=0.30.0->transformers[torch]) (2025.3.0)\n",
      "Requirement already satisfied: typing-extensions>=3.7.4.3 in c:\\users\\tales\\python\\cl_stanford_dogs\\.venv\\lib\\site-packages (from huggingface-hub<1.0,>=0.30.0->transformers[torch]) (4.14.0)\n",
      "Requirement already satisfied: psutil in c:\\users\\tales\\python\\cl_stanford_dogs\\.venv\\lib\\site-packages (from accelerate>=0.26.0->transformers[torch]) (7.0.0)\n",
      "Requirement already satisfied: sympy>=1.13.3 in c:\\users\\tales\\python\\cl_stanford_dogs\\.venv\\lib\\site-packages (from torch>=2.1->transformers[torch]) (1.14.0)\n",
      "Requirement already satisfied: networkx in c:\\users\\tales\\python\\cl_stanford_dogs\\.venv\\lib\\site-packages (from torch>=2.1->transformers[torch]) (3.4.2)\n",
      "Requirement already satisfied: jinja2 in c:\\users\\tales\\python\\cl_stanford_dogs\\.venv\\lib\\site-packages (from torch>=2.1->transformers[torch]) (3.1.6)\n",
      "Requirement already satisfied: mpmath<1.4,>=1.1.0 in c:\\users\\tales\\python\\cl_stanford_dogs\\.venv\\lib\\site-packages (from sympy>=1.13.3->torch>=2.1->transformers[torch]) (1.3.0)\n",
      "Requirement already satisfied: colorama in c:\\users\\tales\\python\\cl_stanford_dogs\\.venv\\lib\\site-packages (from tqdm>=4.27->transformers[torch]) (0.4.6)\n",
      "Requirement already satisfied: MarkupSafe>=2.0 in c:\\users\\tales\\python\\cl_stanford_dogs\\.venv\\lib\\site-packages (from jinja2->torch>=2.1->transformers[torch]) (3.0.2)\n",
      "Requirement already satisfied: charset_normalizer<4,>=2 in c:\\users\\tales\\python\\cl_stanford_dogs\\.venv\\lib\\site-packages (from requests->transformers[torch]) (3.4.2)\n",
      "Requirement already satisfied: idna<4,>=2.5 in c:\\users\\tales\\python\\cl_stanford_dogs\\.venv\\lib\\site-packages (from requests->transformers[torch]) (3.10)\n",
      "Requirement already satisfied: urllib3<3,>=1.21.1 in c:\\users\\tales\\python\\cl_stanford_dogs\\.venv\\lib\\site-packages (from requests->transformers[torch]) (2.5.0)\n",
      "Requirement already satisfied: certifi>=2017.4.17 in c:\\users\\tales\\python\\cl_stanford_dogs\\.venv\\lib\\site-packages (from requests->transformers[torch]) (2025.6.15)\n"
     ]
    }
   ],
   "source": [
    "!pip install transformers\n",
    "!pip install Pillow\n",
    "!pip install numpy\n",
    "!pip install joblib\n",
    "!pip install pathlib\n",
    "!pip install tqdm\n",
    "!pip install cleanlab[datalab]\n",
    "!pip install matplotlib\n",
    "!pip install plotly\n",
    "!pip install xgboost\n",
    "!pip install cleanvision\n",
    "!pip install seaborn\n",
    "!pip install --extra-index-url https://download.pytorch.org/whl/cu128\n",
    "!pip install torch\n",
    "!pip install torchvision\n",
    "!pip install torchaudio\n",
    "!pip install transformers[torch]"
   ]
  },
  {
   "cell_type": "code",
   "execution_count": 2,
   "id": "7893a082",
   "metadata": {
    "id": "7893a082"
   },
   "outputs": [],
   "source": [
    "import pandas as pd\n",
    "import requests\n",
    "import io\n",
    "# Download the dataset from the provided URL\n",
    "url_train = 'https://public.jacob.al/imd3011-datacentric_ai/hackathon-2025-2/train_no_labels.json.gz'\n",
    "url_valid = 'https://public.jacob.al/imd3011-datacentric_ai/hackathon-2025-2/valid.json.gz'\n",
    "\n",
    "response_train = requests.get(url_train)\n",
    "response_valid = requests.get(url_valid)\n",
    "\n",
    "# Read the JSON data into pandas DataFrames\n",
    "train_data = pd.read_json(io.BytesIO(response_train.content), compression='gzip')\n",
    "valid_data = pd.read_json(io.BytesIO(response_valid.content), compression='gzip')\n"
   ]
  },
  {
   "cell_type": "code",
   "execution_count": 3,
   "id": "814c1a7a",
   "metadata": {
    "colab": {
     "base_uri": "https://localhost:8080/",
     "height": 424
    },
    "id": "814c1a7a",
    "outputId": "dba8d178-ef1f-4f16-966f-79788621b3a3"
   },
   "outputs": [
    {
     "data": {
      "text/html": [
       "<div>\n",
       "<style scoped>\n",
       "    .dataframe tbody tr th:only-of-type {\n",
       "        vertical-align: middle;\n",
       "    }\n",
       "\n",
       "    .dataframe tbody tr th {\n",
       "        vertical-align: top;\n",
       "    }\n",
       "\n",
       "    .dataframe thead th {\n",
       "        text-align: right;\n",
       "    }\n",
       "</style>\n",
       "<table border=\"1\" class=\"dataframe\">\n",
       "  <thead>\n",
       "    <tr style=\"text-align: right;\">\n",
       "      <th></th>\n",
       "      <th>image</th>\n",
       "      <th>label</th>\n",
       "      <th>uid</th>\n",
       "    </tr>\n",
       "  </thead>\n",
       "  <tbody>\n",
       "    <tr>\n",
       "      <th>0</th>\n",
       "      <td>[[255, 255, 255, 255, 255, 255, 255, 255, 255,...</td>\n",
       "      <td>I</td>\n",
       "      <td>32e9d51d-8a22-4f97-9955-8f9647a7f13c</td>\n",
       "    </tr>\n",
       "    <tr>\n",
       "      <th>1</th>\n",
       "      <td>[[255, 255, 255, 255, 255, 255, 255, 255, 255,...</td>\n",
       "      <td>VII</td>\n",
       "      <td>a7c9faf9-a7e2-4687-a57b-ac0558ccee8b</td>\n",
       "    </tr>\n",
       "    <tr>\n",
       "      <th>2</th>\n",
       "      <td>[[255, 255, 255, 255, 255, 255, 255, 255, 255,...</td>\n",
       "      <td>II</td>\n",
       "      <td>0baccef4-de79-4f71-b7ec-c77cc2ab9e50</td>\n",
       "    </tr>\n",
       "    <tr>\n",
       "      <th>3</th>\n",
       "      <td>[[255, 255, 255, 255, 255, 255, 255, 255, 255,...</td>\n",
       "      <td>IX</td>\n",
       "      <td>81fe9a13-d0fe-43ad-8185-c59ea6117cce</td>\n",
       "    </tr>\n",
       "    <tr>\n",
       "      <th>4</th>\n",
       "      <td>[[255, 255, 255, 255, 255, 255, 255, 255, 255,...</td>\n",
       "      <td>II</td>\n",
       "      <td>92e3b890-c9ab-4e9c-a63b-ad42de92e5a2</td>\n",
       "    </tr>\n",
       "    <tr>\n",
       "      <th>...</th>\n",
       "      <td>...</td>\n",
       "      <td>...</td>\n",
       "      <td>...</td>\n",
       "    </tr>\n",
       "    <tr>\n",
       "      <th>2401</th>\n",
       "      <td>[[255, 255, 255, 255, 255, 255, 255, 255, 255,...</td>\n",
       "      <td>IX</td>\n",
       "      <td>f585b600-175d-4709-a00a-5e608be22d93</td>\n",
       "    </tr>\n",
       "    <tr>\n",
       "      <th>2402</th>\n",
       "      <td>[[255, 255, 255, 255, 255, 255, 255, 255, 255,...</td>\n",
       "      <td>I</td>\n",
       "      <td>caa40a00-e396-4d0b-9893-4b51a7a8d205</td>\n",
       "    </tr>\n",
       "    <tr>\n",
       "      <th>2403</th>\n",
       "      <td>[[255, 255, 255, 255, 255, 255, 255, 255, 255,...</td>\n",
       "      <td>V</td>\n",
       "      <td>f690990e-1d3a-48e7-92de-6bb7769e1f9a</td>\n",
       "    </tr>\n",
       "    <tr>\n",
       "      <th>2404</th>\n",
       "      <td>[[255, 255, 255, 255, 255, 255, 255, 255, 255,...</td>\n",
       "      <td>VIII</td>\n",
       "      <td>2f06f8a6-64d1-411f-8482-b69e61c94c82</td>\n",
       "    </tr>\n",
       "    <tr>\n",
       "      <th>2405</th>\n",
       "      <td>[[255, 255, 255, 255, 255, 255, 255, 255, 255,...</td>\n",
       "      <td>III</td>\n",
       "      <td>560fa73e-6644-44c5-af11-335c552e124e</td>\n",
       "    </tr>\n",
       "  </tbody>\n",
       "</table>\n",
       "<p>2406 rows × 3 columns</p>\n",
       "</div>"
      ],
      "text/plain": [
       "                                                  image label  \\\n",
       "0     [[255, 255, 255, 255, 255, 255, 255, 255, 255,...     I   \n",
       "1     [[255, 255, 255, 255, 255, 255, 255, 255, 255,...   VII   \n",
       "2     [[255, 255, 255, 255, 255, 255, 255, 255, 255,...    II   \n",
       "3     [[255, 255, 255, 255, 255, 255, 255, 255, 255,...    IX   \n",
       "4     [[255, 255, 255, 255, 255, 255, 255, 255, 255,...    II   \n",
       "...                                                 ...   ...   \n",
       "2401  [[255, 255, 255, 255, 255, 255, 255, 255, 255,...    IX   \n",
       "2402  [[255, 255, 255, 255, 255, 255, 255, 255, 255,...     I   \n",
       "2403  [[255, 255, 255, 255, 255, 255, 255, 255, 255,...     V   \n",
       "2404  [[255, 255, 255, 255, 255, 255, 255, 255, 255,...  VIII   \n",
       "2405  [[255, 255, 255, 255, 255, 255, 255, 255, 255,...   III   \n",
       "\n",
       "                                       uid  \n",
       "0     32e9d51d-8a22-4f97-9955-8f9647a7f13c  \n",
       "1     a7c9faf9-a7e2-4687-a57b-ac0558ccee8b  \n",
       "2     0baccef4-de79-4f71-b7ec-c77cc2ab9e50  \n",
       "3     81fe9a13-d0fe-43ad-8185-c59ea6117cce  \n",
       "4     92e3b890-c9ab-4e9c-a63b-ad42de92e5a2  \n",
       "...                                    ...  \n",
       "2401  f585b600-175d-4709-a00a-5e608be22d93  \n",
       "2402  caa40a00-e396-4d0b-9893-4b51a7a8d205  \n",
       "2403  f690990e-1d3a-48e7-92de-6bb7769e1f9a  \n",
       "2404  2f06f8a6-64d1-411f-8482-b69e61c94c82  \n",
       "2405  560fa73e-6644-44c5-af11-335c552e124e  \n",
       "\n",
       "[2406 rows x 3 columns]"
      ]
     },
     "execution_count": 3,
     "metadata": {},
     "output_type": "execute_result"
    }
   ],
   "source": [
    "train_data"
   ]
  },
  {
   "cell_type": "code",
   "execution_count": 5,
   "id": "e744741b",
   "metadata": {
    "colab": {
     "base_uri": "https://localhost:8080/",
     "height": 424
    },
    "id": "e744741b",
    "outputId": "41e78380-fcee-443d-814c-c995984bf7e0"
   },
   "outputs": [
    {
     "data": {
      "text/html": [
       "<div>\n",
       "<style scoped>\n",
       "    .dataframe tbody tr th:only-of-type {\n",
       "        vertical-align: middle;\n",
       "    }\n",
       "\n",
       "    .dataframe tbody tr th {\n",
       "        vertical-align: top;\n",
       "    }\n",
       "\n",
       "    .dataframe thead th {\n",
       "        text-align: right;\n",
       "    }\n",
       "</style>\n",
       "<table border=\"1\" class=\"dataframe\">\n",
       "  <thead>\n",
       "    <tr style=\"text-align: right;\">\n",
       "      <th></th>\n",
       "      <th>image</th>\n",
       "      <th>label</th>\n",
       "      <th>is_noisy</th>\n",
       "      <th>uid</th>\n",
       "    </tr>\n",
       "  </thead>\n",
       "  <tbody>\n",
       "    <tr>\n",
       "      <th>0</th>\n",
       "      <td>[[255, 255, 255, 255, 255, 255, 255, 255, 255,...</td>\n",
       "      <td>II</td>\n",
       "      <td>0</td>\n",
       "      <td>d58ccd8d-65b1-4f7d-914b-50ce98c1bbeb</td>\n",
       "    </tr>\n",
       "    <tr>\n",
       "      <th>1</th>\n",
       "      <td>[[255, 255, 255, 255, 255, 255, 255, 255, 255,...</td>\n",
       "      <td>V</td>\n",
       "      <td>0</td>\n",
       "      <td>ecccff0d-f2c1-479d-9703-ce18b1635ceb</td>\n",
       "    </tr>\n",
       "    <tr>\n",
       "      <th>2</th>\n",
       "      <td>[[255, 255, 255, 255, 255, 255, 255, 255, 255,...</td>\n",
       "      <td>III</td>\n",
       "      <td>0</td>\n",
       "      <td>e04c4f02-0a19-4020-a028-e2ed56d2f081</td>\n",
       "    </tr>\n",
       "    <tr>\n",
       "      <th>3</th>\n",
       "      <td>[[255, 255, 255, 255, 255, 255, 255, 255, 255,...</td>\n",
       "      <td>X</td>\n",
       "      <td>0</td>\n",
       "      <td>c0d36cb6-9914-44d4-b7d6-2460cbb599fb</td>\n",
       "    </tr>\n",
       "    <tr>\n",
       "      <th>4</th>\n",
       "      <td>[[255, 255, 255, 255, 255, 255, 255, 255, 255,...</td>\n",
       "      <td>I</td>\n",
       "      <td>0</td>\n",
       "      <td>5dfbdf79-2474-44fb-8942-096a3731b4be</td>\n",
       "    </tr>\n",
       "    <tr>\n",
       "      <th>...</th>\n",
       "      <td>...</td>\n",
       "      <td>...</td>\n",
       "      <td>...</td>\n",
       "      <td>...</td>\n",
       "    </tr>\n",
       "    <tr>\n",
       "      <th>420</th>\n",
       "      <td>[[255, 255, 255, 255, 255, 255, 255, 255, 255,...</td>\n",
       "      <td>VIII</td>\n",
       "      <td>1</td>\n",
       "      <td>2e631889-a3b1-44bb-bed5-de33897f129d</td>\n",
       "    </tr>\n",
       "    <tr>\n",
       "      <th>421</th>\n",
       "      <td>[[255, 255, 255, 255, 255, 255, 255, 255, 255,...</td>\n",
       "      <td>III</td>\n",
       "      <td>1</td>\n",
       "      <td>6c97f1f5-de71-4773-ab03-b5e36239cd90</td>\n",
       "    </tr>\n",
       "    <tr>\n",
       "      <th>422</th>\n",
       "      <td>[[255, 255, 255, 255, 255, 255, 255, 255, 255,...</td>\n",
       "      <td>VII</td>\n",
       "      <td>0</td>\n",
       "      <td>22c6e775-4729-4eb9-bfea-376031e07611</td>\n",
       "    </tr>\n",
       "    <tr>\n",
       "      <th>423</th>\n",
       "      <td>[[255, 255, 255, 255, 255, 255, 255, 255, 255,...</td>\n",
       "      <td>II</td>\n",
       "      <td>0</td>\n",
       "      <td>b636e6dd-a697-471c-b4f1-77a9006fade8</td>\n",
       "    </tr>\n",
       "    <tr>\n",
       "      <th>424</th>\n",
       "      <td>[[255, 255, 255, 255, 255, 255, 255, 255, 255,...</td>\n",
       "      <td>X</td>\n",
       "      <td>0</td>\n",
       "      <td>ddb7f63d-8113-40dc-a87b-857015eac28d</td>\n",
       "    </tr>\n",
       "  </tbody>\n",
       "</table>\n",
       "<p>425 rows × 4 columns</p>\n",
       "</div>"
      ],
      "text/plain": [
       "                                                 image label  is_noisy  \\\n",
       "0    [[255, 255, 255, 255, 255, 255, 255, 255, 255,...    II         0   \n",
       "1    [[255, 255, 255, 255, 255, 255, 255, 255, 255,...     V         0   \n",
       "2    [[255, 255, 255, 255, 255, 255, 255, 255, 255,...   III         0   \n",
       "3    [[255, 255, 255, 255, 255, 255, 255, 255, 255,...     X         0   \n",
       "4    [[255, 255, 255, 255, 255, 255, 255, 255, 255,...     I         0   \n",
       "..                                                 ...   ...       ...   \n",
       "420  [[255, 255, 255, 255, 255, 255, 255, 255, 255,...  VIII         1   \n",
       "421  [[255, 255, 255, 255, 255, 255, 255, 255, 255,...   III         1   \n",
       "422  [[255, 255, 255, 255, 255, 255, 255, 255, 255,...   VII         0   \n",
       "423  [[255, 255, 255, 255, 255, 255, 255, 255, 255,...    II         0   \n",
       "424  [[255, 255, 255, 255, 255, 255, 255, 255, 255,...     X         0   \n",
       "\n",
       "                                      uid  \n",
       "0    d58ccd8d-65b1-4f7d-914b-50ce98c1bbeb  \n",
       "1    ecccff0d-f2c1-479d-9703-ce18b1635ceb  \n",
       "2    e04c4f02-0a19-4020-a028-e2ed56d2f081  \n",
       "3    c0d36cb6-9914-44d4-b7d6-2460cbb599fb  \n",
       "4    5dfbdf79-2474-44fb-8942-096a3731b4be  \n",
       "..                                    ...  \n",
       "420  2e631889-a3b1-44bb-bed5-de33897f129d  \n",
       "421  6c97f1f5-de71-4773-ab03-b5e36239cd90  \n",
       "422  22c6e775-4729-4eb9-bfea-376031e07611  \n",
       "423  b636e6dd-a697-471c-b4f1-77a9006fade8  \n",
       "424  ddb7f63d-8113-40dc-a87b-857015eac28d  \n",
       "\n",
       "[425 rows x 4 columns]"
      ]
     },
     "execution_count": 5,
     "metadata": {},
     "output_type": "execute_result"
    }
   ],
   "source": [
    "valid_data"
   ]
  },
  {
   "cell_type": "code",
   "execution_count": 6,
   "id": "hD4JezVJX7Rm",
   "metadata": {
    "colab": {
     "base_uri": "https://localhost:8080/"
    },
    "id": "hD4JezVJX7Rm",
    "outputId": "f3160195-4f70-495c-87b3-45c089163f8b"
   },
   "outputs": [
    {
     "data": {
      "text/plain": [
       "56"
      ]
     },
     "execution_count": 6,
     "metadata": {},
     "output_type": "execute_result"
    }
   ],
   "source": [
    "len(valid_data[valid_data.is_noisy == True])"
   ]
  },
  {
   "cell_type": "code",
   "execution_count": 7,
   "id": "b56848aa",
   "metadata": {
    "colab": {
     "base_uri": "https://localhost:8080/",
     "height": 406
    },
    "id": "b56848aa",
    "outputId": "676b3ec6-4dac-4ef4-93d9-66a2ee244d23"
   },
   "outputs": [
    {
     "data": {
      "image/png": "[encoded data removed]",
      "text/plain": [
       "<Figure size 640x480 with 1 Axes>"
      ]
     },
     "metadata": {},
     "output_type": "display_data"
    }
   ],
   "source": [
    "from PIL import Image\n",
    "from matplotlib import pyplot as plt\n",
    "import numpy as np\n",
    "\n",
    "def show_image_from_np_array(np_array):\n",
    "    np_array = np.array(np_array, dtype=np.uint8)  # Ensure the array is in the correct format\n",
    "    image = Image.fromarray(np_array)\n",
    "    plt.imshow(image)\n",
    "    plt.axis('off')  # Hide the axis\n",
    "    plt.show()\n",
    "\n",
    "# Display the first image from the training dataset\n",
    "show_image_from_np_array(train_data['image'][0])"
   ]
  },
  {
   "cell_type": "code",
   "execution_count": 8,
   "id": "d66d9116",
   "metadata": {
    "colab": {
     "base_uri": "https://localhost:8080/",
     "height": 206
    },
    "id": "d66d9116",
    "outputId": "646a32da-5fde-4cc3-cc7e-89b47cf69766"
   },
   "outputs": [
    {
     "data": {
      "text/html": [
       "<div>\n",
       "<style scoped>\n",
       "    .dataframe tbody tr th:only-of-type {\n",
       "        vertical-align: middle;\n",
       "    }\n",
       "\n",
       "    .dataframe tbody tr th {\n",
       "        vertical-align: top;\n",
       "    }\n",
       "\n",
       "    .dataframe thead th {\n",
       "        text-align: right;\n",
       "    }\n",
       "</style>\n",
       "<table border=\"1\" class=\"dataframe\">\n",
       "  <thead>\n",
       "    <tr style=\"text-align: right;\">\n",
       "      <th></th>\n",
       "      <th>image</th>\n",
       "      <th>label</th>\n",
       "      <th>is_noisy</th>\n",
       "      <th>uid</th>\n",
       "    </tr>\n",
       "  </thead>\n",
       "  <tbody>\n",
       "    <tr>\n",
       "      <th>8</th>\n",
       "      <td>[[255, 255, 255, 255, 255, 255, 255, 255, 255,...</td>\n",
       "      <td>VIII</td>\n",
       "      <td>1</td>\n",
       "      <td>c0b72cc4-6c08-4814-b577-212bea7f763b</td>\n",
       "    </tr>\n",
       "    <tr>\n",
       "      <th>22</th>\n",
       "      <td>[[255, 255, 255, 255, 255, 255, 255, 255, 255,...</td>\n",
       "      <td>III</td>\n",
       "      <td>1</td>\n",
       "      <td>b913a1f0-f93b-406f-a662-02cee36aab76</td>\n",
       "    </tr>\n",
       "    <tr>\n",
       "      <th>28</th>\n",
       "      <td>[[255, 255, 255, 255, 255, 255, 255, 255, 255,...</td>\n",
       "      <td>VII</td>\n",
       "      <td>1</td>\n",
       "      <td>89767360-1f14-4cf0-b600-4177cc9c05dd</td>\n",
       "    </tr>\n",
       "    <tr>\n",
       "      <th>29</th>\n",
       "      <td>[[255, 255, 255, 255, 255, 255, 255, 255, 255,...</td>\n",
       "      <td>II</td>\n",
       "      <td>1</td>\n",
       "      <td>419a9f54-7505-4733-b8de-da40a63dda9c</td>\n",
       "    </tr>\n",
       "    <tr>\n",
       "      <th>34</th>\n",
       "      <td>[[255, 255, 255, 255, 255, 255, 255, 255, 255,...</td>\n",
       "      <td>V</td>\n",
       "      <td>1</td>\n",
       "      <td>1429c7a4-9b9b-40bc-b2f7-9642df383894</td>\n",
       "    </tr>\n",
       "  </tbody>\n",
       "</table>\n",
       "</div>"
      ],
      "text/plain": [
       "                                                image label  is_noisy  \\\n",
       "8   [[255, 255, 255, 255, 255, 255, 255, 255, 255,...  VIII         1   \n",
       "22  [[255, 255, 255, 255, 255, 255, 255, 255, 255,...   III         1   \n",
       "28  [[255, 255, 255, 255, 255, 255, 255, 255, 255,...   VII         1   \n",
       "29  [[255, 255, 255, 255, 255, 255, 255, 255, 255,...    II         1   \n",
       "34  [[255, 255, 255, 255, 255, 255, 255, 255, 255,...     V         1   \n",
       "\n",
       "                                     uid  \n",
       "8   c0b72cc4-6c08-4814-b577-212bea7f763b  \n",
       "22  b913a1f0-f93b-406f-a662-02cee36aab76  \n",
       "28  89767360-1f14-4cf0-b600-4177cc9c05dd  \n",
       "29  419a9f54-7505-4733-b8de-da40a63dda9c  \n",
       "34  1429c7a4-9b9b-40bc-b2f7-9642df383894  "
      ]
     },
     "execution_count": 8,
     "metadata": {},
     "output_type": "execute_result"
    }
   ],
   "source": [
    "valid_data.query('is_noisy == True').head(5)"
   ]
  },
  {
   "cell_type": "code",
   "execution_count": 9,
   "id": "xcUoPdIrS_sB",
   "metadata": {
    "colab": {
     "base_uri": "https://localhost:8080/",
     "height": 429
    },
    "id": "xcUoPdIrS_sB",
    "outputId": "ce793fc7-b233-4e3c-9cd8-1a69000472ad"
   },
   "outputs": [
    {
     "data": {
      "text/plain": [
       "label\n",
       "IV      304\n",
       "I       282\n",
       "IX      260\n",
       "VIII    246\n",
       "V       242\n",
       "III     225\n",
       "VI      222\n",
       "VII     221\n",
       "X       208\n",
       "II      196\n",
       "Name: count, dtype: int64"
      ]
     },
     "execution_count": 9,
     "metadata": {},
     "output_type": "execute_result"
    }
   ],
   "source": [
    "train_data.label.value_counts()"
   ]
  },
  {
   "cell_type": "code",
   "execution_count": 10,
   "id": "110ac98d",
   "metadata": {
    "colab": {
     "base_uri": "https://localhost:8080/",
     "height": 424
    },
    "id": "110ac98d",
    "outputId": "9d81c83d-dd09-4f2a-d485-ee7488843ac0"
   },
   "outputs": [
    {
     "data": {
      "image/png": "[encoded data removed]",
      "text/plain": [
       "<Figure size 640x480 with 1 Axes>"
      ]
     },
     "metadata": {},
     "output_type": "display_data"
    },
    {
     "name": "stdout",
     "output_type": "stream",
     "text": [
      "X\n"
     ]
    }
   ],
   "source": [
    "row = valid_data.query('is_noisy == True').sample(1).iloc[0]\n",
    "\n",
    "show_image_from_np_array(row['image'])\n",
    "print(row['label'])\n"
   ]
  },
  {
   "cell_type": "code",
   "execution_count": 11,
   "id": "f2bc6756",
   "metadata": {
    "colab": {
     "base_uri": "https://localhost:8080/",
     "height": 424
    },
    "id": "f2bc6756",
    "outputId": "5c994973-475f-4a1f-8932-cabf2a31dca1"
   },
   "outputs": [
    {
     "data": {
      "image/png": "[encoded data removed]",
      "text/plain": [
       "<Figure size 640x480 with 1 Axes>"
      ]
     },
     "metadata": {},
     "output_type": "display_data"
    },
    {
     "name": "stdout",
     "output_type": "stream",
     "text": [
      "VI\n"
     ]
    }
   ],
   "source": [
    "row = valid_data.query('is_noisy == True').sample(1).iloc[0]\n",
    "\n",
    "show_image_from_np_array(row['image'])\n",
    "print(row['label'])\n"
   ]
  },
  {
   "cell_type": "code",
   "execution_count": 61,
   "id": "af3590da",
   "metadata": {
    "colab": {
     "base_uri": "https://localhost:8080/",
     "height": 424
    },
    "id": "af3590da",
    "outputId": "ee98b243-633a-445c-acda-dd0abb49b77b"
   },
   "outputs": [
    {
     "data": {
      "image/png": "[encoded data removed]",
      "text/plain": [
       "<Figure size 640x480 with 1 Axes>"
      ]
     },
     "metadata": {},
     "output_type": "display_data"
    },
    {
     "name": "stdout",
     "output_type": "stream",
     "text": [
      "IV\n"
     ]
    }
   ],
   "source": [
    "row = valid_data.query('is_noisy == True').sample(1).iloc[0]\n",
    "\n",
    "show_image_from_np_array(row['image'])\n",
    "print(row['label'])\n"
   ]
  },
  {
   "cell_type": "code",
   "execution_count": 62,
   "id": "0b4389c3",
   "metadata": {
    "colab": {
     "base_uri": "https://localhost:8080/",
     "height": 424
    },
    "id": "0b4389c3",
    "outputId": "cc3c03c9-a65c-4d7d-bca0-99e0059b085e"
   },
   "outputs": [
    {
     "data": {
      "image/png": "[encoded data removed]",
      "text/plain": [
       "<Figure size 640x480 with 1 Axes>"
      ]
     },
     "metadata": {},
     "output_type": "display_data"
    },
    {
     "name": "stdout",
     "output_type": "stream",
     "text": [
      "VII\n"
     ]
    }
   ],
   "source": [
    "row = valid_data.query('is_noisy == True').sample(1).iloc[0]\n",
    "\n",
    "show_image_from_np_array(row['image'])\n",
    "print(row['label'])\n"
   ]
  },
  {
   "cell_type": "code",
   "execution_count": 63,
   "id": "YzbWu8-RhE3b",
   "metadata": {
    "colab": {
     "base_uri": "https://localhost:8080/"
    },
    "id": "YzbWu8-RhE3b",
    "outputId": "8325e337-de06-4049-c5ff-9add5738169a"
   },
   "outputs": [
    {
     "name": "stdout",
     "output_type": "stream",
     "text": [
      "616\n"
     ]
    }
   ],
   "source": [
    "max_length = max(train_data['image'].apply(len))\n",
    "print(max_length)"
   ]
  },
  {
   "cell_type": "code",
   "execution_count": 64,
   "id": "elpBD4z6jBxn",
   "metadata": {
    "id": "elpBD4z6jBxn"
   },
   "outputs": [],
   "source": [
    "TARGET_SIZE = 648  # Next multiple of 3 × pixels (216)\n",
    "IMG_SHAPE = (18, 12)  # (H, W) such that H × W = 216\n"
   ]
  },
  {
   "cell_type": "code",
   "execution_count": 65,
   "id": "J_89jcSRgbd_",
   "metadata": {
    "colab": {
     "base_uri": "https://localhost:8080/"
    },
    "id": "J_89jcSRgbd_",
    "outputId": "5707f4e4-3e80-4f9e-a6a6-d839504a7796"
   },
   "outputs": [
    {
     "name": "stderr",
     "output_type": "stream",
     "text": [
      "Fast image processor class <class 'transformers.models.vit.image_processing_vit_fast.ViTImageProcessorFast'> is available for this model. Using slow image processor class. To use the fast image processor class set `use_fast=True`.\n"
     ]
    }
   ],
   "source": [
    "from transformers import AutoImageProcessor, AutoModel\n",
    "from PIL import Image\n",
    "import torch\n",
    "import numpy as np\n",
    "from tqdm import tqdm\n",
    "\n",
    "# Load processor and model\n",
    "processor = AutoImageProcessor.from_pretrained(\"google/vit-base-patch16-224-in21k\")\n",
    "model = AutoModel.from_pretrained(\"google/vit-base-patch16-224-in21k\")\n",
    "\n",
    "TARGET_SIZE = 648  # Must be divisible by 3\n",
    "IMG_SHAPE = (18, 12)  # So that 18 * 12 * 3 = 648\n",
    "\n",
    "def extract_embedding_from_pixels(pixel_lists):\n",
    "    embeddings = []\n",
    "    for i, pixels in enumerate(tqdm(pixel_lists)):\n",
    "        try:\n",
    "            # Convert the list of pixels to a NumPy array first\n",
    "            # This is crucial if 'pixels' is a list of lists or has nested structures\n",
    "            pixels_array = np.array(pixels, dtype=np.uint8)\n",
    "\n",
    "            # Ensure the array is flattened to the expected TARGET_SIZE\n",
    "            # Handle cases where the original pixel data might be shorter or longer\n",
    "            if pixels_array.size < TARGET_SIZE:\n",
    "                # Pad with zeros if shorter\n",
    "                pixels_array = np.pad(pixels_array, (0, TARGET_SIZE - pixels_array.size), 'constant')\n",
    "            elif pixels_array.size > TARGET_SIZE:\n",
    "                # Truncate if longer (though padding should ideally handle this)\n",
    "                pixels_array = pixels_array[:TARGET_SIZE]\n",
    "\n",
    "            # Reshape to the expected image shape (H, W, C)\n",
    "            # Ensure the number of elements is exactly TARGET_SIZE before reshaping\n",
    "            if pixels_array.size != TARGET_SIZE:\n",
    "                 # If it's still not the correct size, try to flatten and pad again\n",
    "                 # This is a fallback, the above padding should ideally fix it\n",
    "                 pixels_array = np.array(pixels, dtype=np.uint8).flatten()\n",
    "                 if pixels_array.size < TARGET_SIZE:\n",
    "                     pixels_array = np.pad(pixels_array, (0, TARGET_SIZE - pixels_array.size), 'constant')\n",
    "                 else:\n",
    "                     pixels_array = pixels_array[:TARGET_SIZE]\n",
    "\n",
    "\n",
    "            # Now reshape, ensuring it's compatible with (H, W, C)\n",
    "            # This assumes the flattened array has TARGET_SIZE elements\n",
    "            reshaped_array = pixels_array.reshape((*IMG_SHAPE, 3))\n",
    "\n",
    "            # Convert NumPy array to PIL Image\n",
    "            img = Image.fromarray(reshaped_array, mode=\"RGB\")\n",
    "\n",
    "            # Resize to ViT's expected input size (224x224)\n",
    "            img = img.resize((224, 224))\n",
    "\n",
    "            # Process through model\n",
    "            inputs = processor(images=img, return_tensors=\"pt\")\n",
    "            with torch.no_grad():\n",
    "                outputs = model(**inputs)\n",
    "            feature_vector = outputs.last_hidden_state.mean(dim=1).squeeze().numpy()\n",
    "            embeddings.append(feature_vector)\n",
    "\n",
    "        except ValueError as ve:\n",
    "            print(f\"ValueError at index {i}: {ve}. Pixels array shape: {pixels_array.shape if 'pixels_array' in locals() else 'N/A'}\")\n",
    "            # Append a zero vector if an error occurs (e.g., for images that can't be processed)\n",
    "            embeddings.append(np.zeros(model.config.hidden_size))\n",
    "        except Exception as e:\n",
    "            print(f\"General error at index {i}: {e}\")\n",
    "            embeddings.append(np.zeros(model.config.hidden_size))  # fallback\n",
    "\n",
    "    return np.array(embeddings)"
   ]
  },
  {
   "cell_type": "code",
   "execution_count": 66,
   "id": "tSyVg08Ygdjn",
   "metadata": {
    "colab": {
     "base_uri": "https://localhost:8080/"
    },
    "id": "tSyVg08Ygdjn",
    "outputId": "25f0b2a1-8991-4683-982a-58b9e7944e80"
   },
   "outputs": [
    {
     "name": "stderr",
     "output_type": "stream",
     "text": [
      "100%|██████████| 2406/2406 [11:08<00:00,  3.60it/s]\n"
     ]
    }
   ],
   "source": [
    "train_embeddings = extract_embedding_from_pixels(train_data['image'])"
   ]
  },
  {
   "cell_type": "code",
   "execution_count": 67,
   "id": "9899cd20",
   "metadata": {},
   "outputs": [
    {
     "data": {
      "text/plain": [
       "array([[-0.07940922,  0.19458538, -0.0495496 , ...,  0.10575833,\n",
       "         0.01385066,  0.13288431],\n",
       "       [-0.07940922,  0.19458538, -0.0495496 , ...,  0.10575833,\n",
       "         0.01385066,  0.13288431],\n",
       "       [-0.07940922,  0.19458538, -0.0495496 , ...,  0.10575833,\n",
       "         0.01385066,  0.13288431],\n",
       "       ...,\n",
       "       [-0.07940922,  0.19458538, -0.0495496 , ...,  0.10575833,\n",
       "         0.01385066,  0.13288431],\n",
       "       [-0.07940922,  0.19458538, -0.0495496 , ...,  0.10575833,\n",
       "         0.01385066,  0.13288431],\n",
       "       [-0.07940922,  0.19458538, -0.0495496 , ...,  0.10575833,\n",
       "         0.01385066,  0.13288431]], dtype=float32)"
      ]
     },
     "execution_count": 67,
     "metadata": {},
     "output_type": "execute_result"
    }
   ],
   "source": [
    "train_embeddings"
   ]
  },
  {
   "cell_type": "code",
   "execution_count": 68,
   "id": "c79298f2",
   "metadata": {},
   "outputs": [
    {
     "name": "stderr",
     "output_type": "stream",
     "text": [
      "100%|██████████| 425/425 [02:25<00:00,  2.92it/s]\n"
     ]
    }
   ],
   "source": [
    "val_embeddings = extract_embedding_from_pixels(valid_data['image'])"
   ]
  },
  {
   "cell_type": "code",
   "execution_count": 69,
   "id": "1ce6e23d",
   "metadata": {},
   "outputs": [],
   "source": [
    "X_train = train_embeddings\n",
    "y_train = train_data.label\n",
    "\n",
    "X_valid = val_embeddings\n",
    "y_valid = valid_data.label"
   ]
  },
  {
   "cell_type": "code",
   "execution_count": 70,
   "id": "b5d93927",
   "metadata": {},
   "outputs": [
    {
     "data": {
      "text/plain": [
       "((425, 768), (425,))"
      ]
     },
     "execution_count": 70,
     "metadata": {},
     "output_type": "execute_result"
    }
   ],
   "source": [
    "X_valid.shape, y_valid.shape"
   ]
  },
  {
   "cell_type": "code",
   "execution_count": 71,
   "id": "80844bea",
   "metadata": {},
   "outputs": [
    {
     "data": {
      "text/plain": [
       "0        II\n",
       "1         V\n",
       "2       III\n",
       "3         X\n",
       "4         I\n",
       "       ... \n",
       "420    VIII\n",
       "421     III\n",
       "422     VII\n",
       "423      II\n",
       "424       X\n",
       "Name: label, Length: 425, dtype: object"
      ]
     },
     "execution_count": 71,
     "metadata": {},
     "output_type": "execute_result"
    }
   ],
   "source": [
    "y_valid"
   ]
  },
  {
   "cell_type": "code",
   "execution_count": 72,
   "id": "17afce9e",
   "metadata": {},
   "outputs": [],
   "source": [
    "class_names = y_train.unique().tolist()\n",
    "\n",
    "# 2. Create the class_to_idx dictionary\n",
    "# This uses a dictionary comprehension to iterate through the unique class names.\n",
    "# `enumerate` provides both the index (i) and the value (name) for each item.\n",
    "class_to_idx = {name: i for i, name in enumerate(class_names)}\n",
    "\n",
    "# 3. Create the idx_to_class dictionary\n",
    "# This is the inverse of the class_to_idx dictionary.\n",
    "# We can create it by swapping the keys and values from class_to_idx.\n",
    "idx_to_class = {i: name for name, i in class_to_idx.items()}"
   ]
  },
  {
   "cell_type": "code",
   "execution_count": 73,
   "id": "0e4afce1",
   "metadata": {},
   "outputs": [
    {
     "data": {
      "text/plain": [
       "{0: 'I',\n",
       " 1: 'VII',\n",
       " 2: 'II',\n",
       " 3: 'IX',\n",
       " 4: 'VIII',\n",
       " 5: 'VI',\n",
       " 6: 'III',\n",
       " 7: 'V',\n",
       " 8: 'IV',\n",
       " 9: 'X'}"
      ]
     },
     "execution_count": 73,
     "metadata": {},
     "output_type": "execute_result"
    }
   ],
   "source": [
    "idx_to_class"
   ]
  },
  {
   "cell_type": "code",
   "execution_count": 74,
   "id": "2b121160",
   "metadata": {},
   "outputs": [
    {
     "data": {
      "text/plain": [
       "label\n",
       "IV      304\n",
       "I       282\n",
       "IX      260\n",
       "VIII    246\n",
       "V       242\n",
       "III     225\n",
       "VI      222\n",
       "VII     221\n",
       "X       208\n",
       "II      196\n",
       "Name: count, dtype: int64"
      ]
     },
     "execution_count": 74,
     "metadata": {},
     "output_type": "execute_result"
    }
   ],
   "source": [
    "train_data.label.value_counts()"
   ]
  },
  {
   "cell_type": "code",
   "execution_count": 75,
   "id": "d22427d8",
   "metadata": {},
   "outputs": [],
   "source": [
    "train_data['class_idx'] = train_data['label'].map(class_to_idx)"
   ]
  },
  {
   "cell_type": "code",
   "execution_count": 76,
   "id": "8be9aaf2",
   "metadata": {},
   "outputs": [
    {
     "data": {
      "text/plain": [
       "class_idx\n",
       "8    304\n",
       "0    282\n",
       "3    260\n",
       "4    246\n",
       "7    242\n",
       "6    225\n",
       "5    222\n",
       "1    221\n",
       "9    208\n",
       "2    196\n",
       "Name: count, dtype: int64"
      ]
     },
     "execution_count": 76,
     "metadata": {},
     "output_type": "execute_result"
    }
   ],
   "source": [
    "train_data.class_idx.value_counts()"
   ]
  },
  {
   "cell_type": "code",
   "execution_count": 77,
   "id": "29b2e08c",
   "metadata": {},
   "outputs": [
    {
     "data": {
      "image/png": "[encoded data removed]",
      "text/plain": [
       "<Figure size 1600x2200 with 1 Axes>"
      ]
     },
     "metadata": {},
     "output_type": "display_data"
    }
   ],
   "source": [
    "import pandas as pd\n",
    "import matplotlib.pyplot as plt\n",
    "import seaborn as sns\n",
    "\n",
    "plt.figure(figsize=(16, 22))\n",
    "ax = sns.countplot(y=train_data['class_idx'], order=train_data['class_idx'].value_counts().index)\n",
    "plt.xlabel('Count')\n",
    "plt.ylabel('Class Label')\n",
    "plt.title('Distribution of Numbers')\n",
    "\n",
    "for p in ax.patches:\n",
    "    width = p.get_width()    \n",
    "    plt.text(width + 1,       \n",
    "             p.get_y() + p.get_height()/2., ## Add the number of instances for each class after the bar \n",
    "             f'{int(width)}', \n",
    "             ha='left',       \n",
    "             va='center')\n",
    "\n",
    "plt.tight_layout()\n",
    "plt.show()"
   ]
  },
  {
   "cell_type": "code",
   "execution_count": 78,
   "id": "f10a4290",
   "metadata": {},
   "outputs": [
    {
     "name": "stdout",
     "output_type": "stream",
     "text": [
      "Finding near_duplicate issues ...\n",
      "Finding outlier issues ...\n",
      "\n",
      "Audit complete. 2406 issues found in the dataset.\n",
      "Dataset Information: num_examples: 2406\n",
      "\n",
      "Here is a summary of various issues found in your data:\n",
      "\n",
      "    issue_type  num_issues\n",
      "near_duplicate        2166\n",
      "       outlier         240\n",
      "\n",
      "Learn about each issue: https://docs.cleanlab.ai/stable/cleanlab/datalab/guide/issue_type_description.html\n",
      "See which examples in your dataset exhibit each issue via: `datalab.get_issues(<ISSUE_NAME>)`\n",
      "\n",
      "Data indices corresponding to top examples of each issue are shown below.\n",
      "\n",
      "\n",
      "------------------ near_duplicate issues -------------------\n",
      "\n",
      "About this issue:\n",
      "\tA (near) duplicate issue refers to two or more examples in\n",
      "    a dataset that are extremely similar to each other, relative\n",
      "    to the rest of the dataset.  The examples flagged with this issue\n",
      "    may be exactly duplicated, or lie atypically close together when\n",
      "    represented as vectors (i.e. feature embeddings).\n",
      "    \n",
      "\n",
      "Number of examples with this issue: 2166\n",
      "Overall dataset quality in terms of this issue: 0.0998\n",
      "\n",
      "Examples representing most severe instances of this issue:\n",
      "      is_near_duplicate_issue  near_duplicate_score                                                                                                                                                                                                                                                                                                                                                                                                      near_duplicate_sets  distance_to_nearest_neighbor\n",
      "0                        True                   0.0  [1, 2, 3, 4, 5, 6, 7, 8, 9, 12, 14, 15, 17, 18, 19, 20, 22, 23, 24, 25, 26, 27, 28, 29, 30, 31, 32, 33, 34, 36, 37, 38, 39, 40, 41, 42, 43, 44, 45, 46, 47, 48, 50, 51, 52, 53, 54, 55, 57, 59, 60, 61, 62, 63, 64, 65, 66, 67, 68, 69, 70, 71, 72, 73, 74, 75, 76, 77, 78, 79, 80, 81, 82, 83, 84, 85, 86, 87, 88, 89, 90, 91, 92, 94, 95, 96, 97, 98, 99, 100, 101, 102, 103, 104, 105, 106, 107, 108, 109, 110, ...]                           0.0\n",
      "1586                     True                   0.0                                                                                                                                                                                                                                                                                                                                                                                           [0, 1, 2, 3, 4, 5, 6, 7, 8, 9]                           0.0\n",
      "1585                     True                   0.0                                                                                                                                                                                                                                                                                                                                                                                           [0, 1, 2, 3, 4, 5, 6, 7, 8, 9]                           0.0\n",
      "1584                     True                   0.0                                                                                                                                                                                                                                                                                                                                                                                           [0, 1, 2, 3, 4, 5, 6, 7, 8, 9]                           0.0\n",
      "1581                     True                   0.0                                                                                                                                                                                                                                                                                                                                                                                           [0, 1, 2, 3, 4, 5, 6, 7, 8, 9]                           0.0\n",
      "\n",
      "\n",
      "---------------------- outlier issues ----------------------\n",
      "\n",
      "About this issue:\n",
      "\tExamples that are very different from the rest of the dataset \n",
      "    (i.e. potentially out-of-distribution or rare/anomalous instances).\n",
      "    \n",
      "\n",
      "Number of examples with this issue: 240\n",
      "Overall dataset quality in terms of this issue: 0.9002\n",
      "\n",
      "Examples representing most severe instances of this issue:\n",
      "      is_outlier_issue  outlier_score\n",
      "1202              True            0.0\n",
      "942               True            0.0\n",
      "947               True            0.0\n",
      "369               True            0.0\n",
      "368               True            0.0\n"
     ]
    }
   ],
   "source": [
    "# Import the Datalab class from the cleanlab library\n",
    "from cleanlab import Datalab\n",
    "\n",
    "# Create a Datalab object with the training data with no label name\n",
    "lab = Datalab(data=train_data)\n",
    "\n",
    "# Use the Datalab object to find issues  with the features (we are not using predicted probabilities, thus, not analysing label issues so far)\n",
    "lab.find_issues(features=X_train, issue_types={\"near_duplicate\": {}, \"outlier\": {}})\n",
    "\n",
    "# Generate a report of the issues found by the Datalab object\n",
    "lab.report()"
   ]
  },
  {
   "cell_type": "code",
   "execution_count": 79,
   "id": "1fab6531",
   "metadata": {},
   "outputs": [
    {
     "data": {
      "text/html": [
       "<div>\n",
       "<style scoped>\n",
       "    .dataframe tbody tr th:only-of-type {\n",
       "        vertical-align: middle;\n",
       "    }\n",
       "\n",
       "    .dataframe tbody tr th {\n",
       "        vertical-align: top;\n",
       "    }\n",
       "\n",
       "    .dataframe thead th {\n",
       "        text-align: right;\n",
       "    }\n",
       "</style>\n",
       "<table border=\"1\" class=\"dataframe\">\n",
       "  <thead>\n",
       "    <tr style=\"text-align: right;\">\n",
       "      <th></th>\n",
       "      <th>is_near_duplicate_issue</th>\n",
       "      <th>near_duplicate_score</th>\n",
       "      <th>near_duplicate_sets</th>\n",
       "      <th>distance_to_nearest_neighbor</th>\n",
       "    </tr>\n",
       "  </thead>\n",
       "  <tbody>\n",
       "    <tr>\n",
       "      <th>0</th>\n",
       "      <td>True</td>\n",
       "      <td>0.0</td>\n",
       "      <td>[1, 2, 3, 4, 5, 6, 7, 8, 9, 12, 14, 15, 17, 18...</td>\n",
       "      <td>0.0</td>\n",
       "    </tr>\n",
       "    <tr>\n",
       "      <th>1</th>\n",
       "      <td>True</td>\n",
       "      <td>0.0</td>\n",
       "      <td>[0, 2, 3, 4, 5, 6, 7, 8, 9, 12, 14, 15, 17, 18...</td>\n",
       "      <td>0.0</td>\n",
       "    </tr>\n",
       "    <tr>\n",
       "      <th>2</th>\n",
       "      <td>True</td>\n",
       "      <td>0.0</td>\n",
       "      <td>[0, 1, 3, 4, 5, 6, 7, 8, 9, 12, 14, 15, 17, 18...</td>\n",
       "      <td>0.0</td>\n",
       "    </tr>\n",
       "    <tr>\n",
       "      <th>3</th>\n",
       "      <td>True</td>\n",
       "      <td>0.0</td>\n",
       "      <td>[0, 1, 2, 4, 5, 6, 7, 8, 9, 12, 14, 15, 17, 18...</td>\n",
       "      <td>0.0</td>\n",
       "    </tr>\n",
       "    <tr>\n",
       "      <th>4</th>\n",
       "      <td>True</td>\n",
       "      <td>0.0</td>\n",
       "      <td>[0, 1, 2, 3, 5, 6, 7, 8, 9, 12, 14, 15, 17, 18...</td>\n",
       "      <td>0.0</td>\n",
       "    </tr>\n",
       "    <tr>\n",
       "      <th>...</th>\n",
       "      <td>...</td>\n",
       "      <td>...</td>\n",
       "      <td>...</td>\n",
       "      <td>...</td>\n",
       "    </tr>\n",
       "    <tr>\n",
       "      <th>2401</th>\n",
       "      <td>True</td>\n",
       "      <td>0.0</td>\n",
       "      <td>[0, 1, 2, 3, 4, 5, 6, 7, 8, 9]</td>\n",
       "      <td>0.0</td>\n",
       "    </tr>\n",
       "    <tr>\n",
       "      <th>2402</th>\n",
       "      <td>True</td>\n",
       "      <td>0.0</td>\n",
       "      <td>[0, 1, 2, 3, 4, 5, 6, 7, 8, 9]</td>\n",
       "      <td>0.0</td>\n",
       "    </tr>\n",
       "    <tr>\n",
       "      <th>2403</th>\n",
       "      <td>True</td>\n",
       "      <td>0.0</td>\n",
       "      <td>[0, 1, 2, 3, 4, 5, 6, 7, 8, 9]</td>\n",
       "      <td>0.0</td>\n",
       "    </tr>\n",
       "    <tr>\n",
       "      <th>2404</th>\n",
       "      <td>True</td>\n",
       "      <td>0.0</td>\n",
       "      <td>[0, 1, 2, 3, 4, 5, 6, 7, 8, 9]</td>\n",
       "      <td>0.0</td>\n",
       "    </tr>\n",
       "    <tr>\n",
       "      <th>2405</th>\n",
       "      <td>True</td>\n",
       "      <td>0.0</td>\n",
       "      <td>[0, 1, 2, 3, 4, 5, 6, 7, 8, 9]</td>\n",
       "      <td>0.0</td>\n",
       "    </tr>\n",
       "  </tbody>\n",
       "</table>\n",
       "<p>2166 rows × 4 columns</p>\n",
       "</div>"
      ],
      "text/plain": [
       "      is_near_duplicate_issue  near_duplicate_score  \\\n",
       "0                        True                   0.0   \n",
       "1                        True                   0.0   \n",
       "2                        True                   0.0   \n",
       "3                        True                   0.0   \n",
       "4                        True                   0.0   \n",
       "...                       ...                   ...   \n",
       "2401                     True                   0.0   \n",
       "2402                     True                   0.0   \n",
       "2403                     True                   0.0   \n",
       "2404                     True                   0.0   \n",
       "2405                     True                   0.0   \n",
       "\n",
       "                                    near_duplicate_sets  \\\n",
       "0     [1, 2, 3, 4, 5, 6, 7, 8, 9, 12, 14, 15, 17, 18...   \n",
       "1     [0, 2, 3, 4, 5, 6, 7, 8, 9, 12, 14, 15, 17, 18...   \n",
       "2     [0, 1, 3, 4, 5, 6, 7, 8, 9, 12, 14, 15, 17, 18...   \n",
       "3     [0, 1, 2, 4, 5, 6, 7, 8, 9, 12, 14, 15, 17, 18...   \n",
       "4     [0, 1, 2, 3, 5, 6, 7, 8, 9, 12, 14, 15, 17, 18...   \n",
       "...                                                 ...   \n",
       "2401                     [0, 1, 2, 3, 4, 5, 6, 7, 8, 9]   \n",
       "2402                     [0, 1, 2, 3, 4, 5, 6, 7, 8, 9]   \n",
       "2403                     [0, 1, 2, 3, 4, 5, 6, 7, 8, 9]   \n",
       "2404                     [0, 1, 2, 3, 4, 5, 6, 7, 8, 9]   \n",
       "2405                     [0, 1, 2, 3, 4, 5, 6, 7, 8, 9]   \n",
       "\n",
       "      distance_to_nearest_neighbor  \n",
       "0                              0.0  \n",
       "1                              0.0  \n",
       "2                              0.0  \n",
       "3                              0.0  \n",
       "4                              0.0  \n",
       "...                            ...  \n",
       "2401                           0.0  \n",
       "2402                           0.0  \n",
       "2403                           0.0  \n",
       "2404                           0.0  \n",
       "2405                           0.0  \n",
       "\n",
       "[2166 rows x 4 columns]"
      ]
     },
     "execution_count": 79,
     "metadata": {},
     "output_type": "execute_result"
    }
   ],
   "source": [
    "# Retrieve the near-duplicate issues identified by the Datalab object\n",
    "# Filter the issues to only include those marked as actual near-duplicate issues\n",
    "near_duplicates = lab.get_issues(\"near_duplicate\").query(\"is_near_duplicate_issue == True\")\n",
    "\n",
    "# Retrieve the outlier issues identified by the Datalab object\n",
    "# Filter the issues to only include those marked as actual outlier issues\n",
    "outliers = lab.get_issues(\"outlier\").query(\"is_outlier_issue == True\")\n",
    "\n",
    "# Display the DataFrame containing the near-duplicate issues\n",
    "near_duplicates"
   ]
  },
  {
   "cell_type": "code",
   "execution_count": 80,
   "id": "5b313f42",
   "metadata": {},
   "outputs": [
    {
     "data": {
      "text/html": [
       "<div>\n",
       "<style scoped>\n",
       "    .dataframe tbody tr th:only-of-type {\n",
       "        vertical-align: middle;\n",
       "    }\n",
       "\n",
       "    .dataframe tbody tr th {\n",
       "        vertical-align: top;\n",
       "    }\n",
       "\n",
       "    .dataframe thead th {\n",
       "        text-align: right;\n",
       "    }\n",
       "</style>\n",
       "<table border=\"1\" class=\"dataframe\">\n",
       "  <thead>\n",
       "    <tr style=\"text-align: right;\">\n",
       "      <th></th>\n",
       "      <th>is_outlier_issue</th>\n",
       "      <th>outlier_score</th>\n",
       "    </tr>\n",
       "  </thead>\n",
       "  <tbody>\n",
       "    <tr>\n",
       "      <th>10</th>\n",
       "      <td>True</td>\n",
       "      <td>0.0</td>\n",
       "    </tr>\n",
       "    <tr>\n",
       "      <th>1431</th>\n",
       "      <td>True</td>\n",
       "      <td>0.0</td>\n",
       "    </tr>\n",
       "    <tr>\n",
       "      <th>1439</th>\n",
       "      <td>True</td>\n",
       "      <td>0.0</td>\n",
       "    </tr>\n",
       "    <tr>\n",
       "      <th>1440</th>\n",
       "      <td>True</td>\n",
       "      <td>0.0</td>\n",
       "    </tr>\n",
       "    <tr>\n",
       "      <th>1442</th>\n",
       "      <td>True</td>\n",
       "      <td>0.0</td>\n",
       "    </tr>\n",
       "    <tr>\n",
       "      <th>...</th>\n",
       "      <td>...</td>\n",
       "      <td>...</td>\n",
       "    </tr>\n",
       "    <tr>\n",
       "      <th>848</th>\n",
       "      <td>True</td>\n",
       "      <td>0.0</td>\n",
       "    </tr>\n",
       "    <tr>\n",
       "      <th>860</th>\n",
       "      <td>True</td>\n",
       "      <td>0.0</td>\n",
       "    </tr>\n",
       "    <tr>\n",
       "      <th>861</th>\n",
       "      <td>True</td>\n",
       "      <td>0.0</td>\n",
       "    </tr>\n",
       "    <tr>\n",
       "      <th>2371</th>\n",
       "      <td>True</td>\n",
       "      <td>0.0</td>\n",
       "    </tr>\n",
       "    <tr>\n",
       "      <th>2382</th>\n",
       "      <td>True</td>\n",
       "      <td>0.0</td>\n",
       "    </tr>\n",
       "  </tbody>\n",
       "</table>\n",
       "<p>240 rows × 2 columns</p>\n",
       "</div>"
      ],
      "text/plain": [
       "      is_outlier_issue  outlier_score\n",
       "10                True            0.0\n",
       "1431              True            0.0\n",
       "1439              True            0.0\n",
       "1440              True            0.0\n",
       "1442              True            0.0\n",
       "...                ...            ...\n",
       "848               True            0.0\n",
       "860               True            0.0\n",
       "861               True            0.0\n",
       "2371              True            0.0\n",
       "2382              True            0.0\n",
       "\n",
       "[240 rows x 2 columns]"
      ]
     },
     "execution_count": 80,
     "metadata": {},
     "output_type": "execute_result"
    }
   ],
   "source": [
    "# Sort the outliers DataFrame by the 'outlier_score' column in ascending order\n",
    "# This helps in identifying the most significant outliers first\n",
    "outliers = outliers.sort_values(\"outlier_score\", ascending=True)\n",
    "\n",
    "# Display the sorted outliers DataFrame\n",
    "outliers"
   ]
  },
  {
   "cell_type": "code",
   "execution_count": null,
   "id": "597e3149",
   "metadata": {},
   "outputs": [],
   "source": [
    "NUMBER = 1431"
   ]
  },
  {
   "cell_type": "code",
   "execution_count": null,
   "id": "61e3d562",
   "metadata": {},
   "outputs": [
    {
     "data": {
      "image/png": "[encoded data removed]",
      "text/plain": [
       "<Figure size 640x480 with 1 Axes>"
      ]
     },
     "metadata": {},
     "output_type": "display_data"
    }
   ],
   "source": [
    "show_image_from_np_array(train_data['image'][1431])"
   ]
  },
  {
   "cell_type": "code",
   "execution_count": null,
   "id": "65492268",
   "metadata": {},
   "outputs": [
    {
     "data": {
      "text/plain": [
       "image        [[255, 255, 255, 255, 255, 255, 255, 255, 255,...\n",
       "label                                                        I\n",
       "uid                       28557544-1c57-4e8a-8162-4fd0d2f82af4\n",
       "class_idx                                                    0\n",
       "Name: 10, dtype: object"
      ]
     },
     "execution_count": 83,
     "metadata": {},
     "output_type": "execute_result"
    }
   ],
   "source": [
    "train_data.iloc[1431]"
   ]
  },
  {
   "cell_type": "code",
   "execution_count": 84,
   "id": "eae9231f",
   "metadata": {},
   "outputs": [],
   "source": [
    "import numpy as np\n",
    "from sklearn.model_selection import KFold\n",
    "from sklearn.base import clone\n",
    "\n",
    "def recov(X, y, model, n_runs=100, k_folds=5, random_state=None):\n",
    "    n_samples = len(X)\n",
    "    occurrence_counts = np.zeros(n_samples)\n",
    "    \n",
    "    for run in range(n_runs):\n",
    "        kf = KFold(n_splits=k_folds, shuffle=True, random_state=random_state + run if random_state is not None else None)\n",
    "        fold_val_scores = []\n",
    "        fold_indices = []\n",
    "        \n",
    "        models = []\n",
    "        for train_idx, val_idx in kf.split(X):\n",
    "            X_train, X_val = X[train_idx], X[val_idx]\n",
    "            y_train, y_val = y[train_idx], y[val_idx]\n",
    "            \n",
    "            fold_model = clone(model)\n",
    "            fold_model.fit(X_train, y_train)\n",
    "            models.append(fold_model)\n",
    "            fold_indices.append(val_idx)\n",
    "            \n",
    "            score = fold_model.score(X_val, y_val)\n",
    "            fold_val_scores.append(score)\n",
    "        \n",
    "        worst_fold_idx = np.argmin(fold_val_scores)\n",
    "        worst_fold_samples = fold_indices[worst_fold_idx]\n",
    "        \n",
    "        occurrence_counts[worst_fold_samples] += 1\n",
    "    \n",
    "    return occurrence_counts"
   ]
  },
  {
   "cell_type": "code",
   "execution_count": 85,
   "id": "ee279256",
   "metadata": {},
   "outputs": [],
   "source": [
    "from sklearn.linear_model import LogisticRegression\n",
    "\n",
    "\n",
    "model = LogisticRegression(max_iter=1000)\n",
    "occurrence_counts = recov(X_train, y_train, model, n_runs=100, k_folds=5)\n",
    "\n",
    "noisy_indices = np.argsort(occurrence_counts)[-int(0.1 * len(X_train)):]"
   ]
  },
  {
   "cell_type": "code",
   "execution_count": 86,
   "id": "4ac7b794",
   "metadata": {},
   "outputs": [
    {
     "data": {
      "text/plain": [
       "array([1161, 1420, 1347, 1342, 1954, 2080, 1126, 1170, 1332, 2065,  578,\n",
       "       1309, 1296,  184, 1282,  561, 1280, 1279,  198, 2027,  202, 1247,\n",
       "       2074, 1902,  782, 1106, 2149, 1712, 1966,  502,  253, 2319,  318,\n",
       "        169, 1044,  668,  228,  719, 1947,  456, 2280,  498,  414,  415,\n",
       "       2092,  927,  707, 1356, 1929,  152, 1147,  173, 2169, 1973,  329,\n",
       "       1649, 1413, 1251, 2400,    4,  791, 1658, 1645, 1663,  206, 1058,\n",
       "       1220, 1619,  827, 1613, 1612, 1682,  562,  839,  186, 1853, 1299,\n",
       "        216, 2344, 1974, 1510,  661,  669, 1918,   83, 1896, 1894,  973,\n",
       "       2207,  282, 1480, 1442, 1013, 2245, 1828,   98,  614,  271, 2194,\n",
       "         85,  432,  285,  724,  223, 1177, 1717, 2314,  127, 1184, 1968,\n",
       "       2073, 2321, 1689, 1901, 2009,  544,  788, 1256, 1021,  792, 1190,\n",
       "        520,  340,  194, 2367, 1547,  480, 2128, 1461, 1541,  687, 1765,\n",
       "        696,  284, 1165, 2097, 1928, 1438, 2105, 1144, 1921,  100,  103,\n",
       "       1500,  149, 1751,  960,  745, 1351, 1368,  411, 1205, 1897,  417,\n",
       "        678, 2396, 1652,  459, 1359,  742,  450, 1112,  275, 1424,    5,\n",
       "       1926, 2209,  370,  630, 1376,  174, 1948, 2325, 2317, 2227, 1535,\n",
       "        399,  910,  252, 1754, 2305,  899,  290, 2141, 1514, 1667, 2290,\n",
       "        464, 1614, 1753,  246, 1360, 1457, 1627, 1750, 1887, 2187, 1401,\n",
       "        133, 1039, 1445,  189, 1852,  604, 2188, 2339,  437, 1903, 1340,\n",
       "       1455, 2342, 1975,   95,  658, 1410, 2030, 1005, 1127, 1724,  660,\n",
       "        582,  971,  767, 1726, 2230, 1490, 2359, 1696, 1335, 1673, 1876,\n",
       "       2113, 1230,  243,  143,  221,  510, 1211, 1288,   54], dtype=int64)"
      ]
     },
     "execution_count": 86,
     "metadata": {},
     "output_type": "execute_result"
    }
   ],
   "source": [
    "noisy_indices"
   ]
  },
  {
   "cell_type": "code",
   "execution_count": 87,
   "id": "4045ad70",
   "metadata": {},
   "outputs": [
    {
     "data": {
      "image/png": "[encoded data removed]",
      "text/plain": [
       "<Figure size 640x480 with 1 Axes>"
      ]
     },
     "metadata": {},
     "output_type": "display_data"
    }
   ],
   "source": [
    "show_image_from_np_array(train_data['image'][18])"
   ]
  },
  {
   "cell_type": "code",
   "execution_count": 88,
   "id": "2e7c263a",
   "metadata": {},
   "outputs": [
    {
     "data": {
      "text/plain": [
       "image        [[255, 255, 255, 255, 255, 255, 255, 255, 255,...\n",
       "label                                                     VIII\n",
       "uid                       c776dc0b-deb2-4d96-bc4a-8aee0d4296ed\n",
       "class_idx                                                    4\n",
       "Name: 18, dtype: object"
      ]
     },
     "execution_count": 88,
     "metadata": {},
     "output_type": "execute_result"
    }
   ],
   "source": [
    "train_data.iloc[18]"
   ]
  },
  {
   "cell_type": "code",
   "execution_count": null,
   "id": "bd269cae",
   "metadata": {},
   "outputs": [],
   "source": [
    "final_submission = train_data.copy()"
   ]
  },
  {
   "cell_type": "code",
   "execution_count": null,
   "id": "f8a63413",
   "metadata": {},
   "outputs": [],
   "source": [
    "final_submission['is_noisy'] = False\n",
    "\n",
    "final_submission.loc[noisy_indices, 'is_noisy'] = True"
   ]
  },
  {
   "cell_type": "code",
   "execution_count": null,
   "id": "4bb9e8fc",
   "metadata": {},
   "outputs": [],
   "source": [
    "print(final_submission.columns)"
   ]
  },
  {
   "cell_type": "code",
   "execution_count": null,
   "id": "4ad7a4e0",
   "metadata": {},
   "outputs": [],
   "source": [
    "final_submission = final_submission[['uid', 'is_noisy']]"
   ]
  },
  {
   "cell_type": "code",
   "execution_count": null,
   "id": "571c68e2",
   "metadata": {},
   "outputs": [],
   "source": [
    "import time\n",
    "import pandas as pd\n",
    "import numpy as np\n",
    "\n",
    "from sklearn.linear_model import LogisticRegression\n",
    "from sklearn.metrics import (\n",
    "    accuracy_score, balanced_accuracy_score, classification_report,\n",
    "    confusion_matrix, f1_score, matthews_corrcoef\n",
    ")\n",
    "from typing import List, Tuple\n",
    "\n",
    "def calculate_evaluation_metrics(y_true: pd.Series, y_pred: pd.Series) -> Tuple[float, float, float, str, float, np.ndarray]:\n",
    "    f1 = f1_score(y_true, y_pred, average='micro')\n",
    "    balanced_accuracy = balanced_accuracy_score(y_true, y_pred)\n",
    "    accuracy = accuracy_score(y_true, y_pred)\n",
    "    classification_report_str = classification_report(y_true, y_pred)\n",
    "    matthews_corr_coeff = matthews_corrcoef(y_true, y_pred)\n",
    "    confusion_matrix_arr = confusion_matrix(y_true, y_pred)\n",
    "\n",
    "    return f1, balanced_accuracy, accuracy, classification_report_str, matthews_corr_coeff, confusion_matrix_arr\n",
    "\n",
    "def train_and_evaluate_logistic_regression(X_train: pd.DataFrame,\n",
    "                                           y_train: pd.Series,\n",
    "                                           X_valid: pd.DataFrame,\n",
    "                                           y_valid: pd.Series) -> Tuple[pd.DataFrame, List[List]]:\n",
    "    model_name = 'LogisticRegression'\n",
    "    model = LogisticRegression(random_state=1408, n_jobs=-1, class_weight='balanced', max_iter=1000)\n",
    "\n",
    "    evaluation_results = []\n",
    "    classification_reports = []\n",
    "\n",
    "    start_time = time.time()\n",
    "    model.fit(X_train, y_train)\n",
    "    predictions = model.predict(X_valid)\n",
    "\n",
    "    f1, balanced_accuracy, accuracy, classification_report_str, matthews_corr_coeff, confusion_matrix_arr = calculate_evaluation_metrics(y_valid, predictions)\n",
    "    classification_reports.append([model_name, classification_report_str, confusion_matrix_arr])\n",
    "\n",
    "    elapsed_time = time.time() - start_time\n",
    "    evaluation_results.append([model_name, f1, balanced_accuracy, accuracy, matthews_corr_coeff, elapsed_time, confusion_matrix_arr, classification_report_str])\n",
    "\n",
    "    print(f'Name: {model_name} - F1: {f1:.4f} - BACC: {balanced_accuracy:.4f} - ACC: {accuracy:.4f} - MCC: {matthews_corr_coeff:.4f} - Elapsed: {elapsed_time:.2f}s')\n",
    "    print(classification_report_str)\n",
    "    print(confusion_matrix_arr)\n",
    "    print('*' * 20, '\\n')\n",
    "\n",
    "    results_df = pd.DataFrame(evaluation_results, columns=['Model', 'F1', 'BACC', 'ACC', 'MCC', 'Total Time', 'Confusion Matrix', 'Classification Report'])\n",
    "    results_df['Confusion Matrix'] = results_df['Confusion Matrix'].apply(str)\n",
    "\n",
    "    return results_df, classification_reports\n"
   ]
  },
  {
   "cell_type": "code",
   "execution_count": null,
   "id": "ec172f39",
   "metadata": {},
   "outputs": [],
   "source": []
  }
 ],
 "metadata": {
  "colab": {
   "provenance": []
  },
  "kernelspec": {
   "display_name": ".venv",
   "language": "python",
   "name": "python3"
  },
  "language_info": {
   "codemirror_mode": {
    "name": "ipython",
    "version": 3
   },
   "file_extension": ".py",
   "mimetype": "text/x-python",
   "name": "python",
   "nbconvert_exporter": "python",
   "pygments_lexer": "ipython3",
   "version": "3.10.11"
  }
 },
 "nbformat": 4,
 "nbformat_minor": 5
}
